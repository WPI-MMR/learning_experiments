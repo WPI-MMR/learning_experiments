{
 "cells": [
  {
   "cell_type": "markdown",
   "metadata": {},
   "source": [
    "# Autotrainer PPO2 on Gym Pendulum\n",
    "Test the autotrainer on Open Ai's Pendulum environment, which is continuous and considered to be an easy enviroment to solve."
   ]
  },
  {
   "cell_type": "markdown",
   "metadata": {},
   "source": [
    "## Ensure that Tensorflow is using the GPU"
   ]
  },
  {
   "cell_type": "code",
   "execution_count": 1,
   "metadata": {},
   "outputs": [
    {
     "name": "stdout",
     "output_type": "stream",
     "text": [
      "Default GPU Device: /device:GPU:0\n"
     ]
    }
   ],
   "source": [
    "import tensorflow as tf\n",
    "if tf.test.gpu_device_name():\n",
    "    print('Default GPU Device: {}'.format(tf.test.gpu_device_name()))\n",
    "else:\n",
    "    print(\"Please install GPU version of TF\")"
   ]
  },
  {
   "cell_type": "markdown",
   "metadata": {},
   "source": [
    "## Define Experiment Tags"
   ]
  },
  {
   "cell_type": "code",
   "execution_count": 2,
   "metadata": {},
   "outputs": [],
   "source": [
    "TAGS = ['gym-pendulum', 'gpu',]"
   ]
  },
  {
   "cell_type": "markdown",
   "metadata": {},
   "source": [
    "## Parse CLI arguments and register w/ wandb"
   ]
  },
  {
   "cell_type": "markdown",
   "metadata": {},
   "source": [
    "This experiment will be using the auto trainer to handle all of the hyperparmeter running"
   ]
  },
  {
   "cell_type": "code",
   "execution_count": 3,
   "metadata": {},
   "outputs": [
    {
     "name": "stdout",
     "output_type": "stream",
     "text": [
      "WARNING:tensorflow:\n",
      "The TensorFlow contrib module will not be included in TensorFlow 2.0.\n",
      "For more information, please see:\n",
      "  * https://github.com/tensorflow/community/blob/master/rfcs/20180907-contrib-sunset.md\n",
      "  * https://github.com/tensorflow/addons\n",
      "  * https://github.com/tensorflow/io (for I/O related ops)\n",
      "If you depend on functionality not listed there, please file an issue.\n",
      "\n"
     ]
    }
   ],
   "source": [
    "from auto_trainer import params\n",
    "import auto_trainer\n",
    "\n",
    "auto_trainer.trainer.PROJECT_NAME = 'autotrainer-gym-baselines'"
   ]
  },
  {
   "cell_type": "code",
   "execution_count": 4,
   "metadata": {},
   "outputs": [
    {
     "data": {
      "text/plain": [
       "Namespace(algorithm='PPO2', episode_length=750, episodes=10000, eval_episodes=5, eval_frequency=25, eval_render_freq=9, fps=20, num_workers=8, policy='MlpPolicy')"
      ]
     },
     "execution_count": 4,
     "metadata": {},
     "output_type": "execute_result"
    }
   ],
   "source": [
    "config = params.WandbParameters().parse()\n",
    "\n",
    "config.episodes = 10000\n",
    "config.episode_length = 750\n",
    "\n",
    "config.num_workers = 8\n",
    "config.eval_frequency = 25\n",
    "config.eval_episodes = 5\n",
    "config.fps = 20\n",
    "\n",
    "# Create a 4 second gif\n",
    "config.eval_render_freq = int(config.episode_length / (4 * config.fps))\n",
    "\n",
    "config"
   ]
  },
  {
   "cell_type": "code",
   "execution_count": 5,
   "metadata": {},
   "outputs": [
    {
     "name": "stderr",
     "output_type": "stream",
     "text": [
      "\u001b[34m\u001b[1mwandb\u001b[0m: Currently logged in as: \u001b[33magupta231\u001b[0m (use `wandb login --relogin` to force relogin)\n",
      "/usr/local/lib/python3.7/dist-packages/IPython/html.py:14: ShimWarning: The `IPython.html` package has been deprecated since IPython 4.0. You should import from `notebook` instead. `IPython.html.widgets` has moved to `ipywidgets`.\n",
      "  \"`IPython.html.widgets` has moved to `ipywidgets`.\", ShimWarning)\n"
     ]
    },
    {
     "data": {
      "text/html": [
       "\n",
       "                Tracking run with wandb version 0.10.18<br/>\n",
       "                Syncing run <strong style=\"color:#cdcd00\">noble-morning-5</strong> to <a href=\"https://wandb.ai\" target=\"_blank\">Weights & Biases</a> <a href=\"https://docs.wandb.com/integrations/jupyter.html\" target=\"_blank\">(Documentation)</a>.<br/>\n",
       "                Project page: <a href=\"https://wandb.ai/wpi-mmr/autotrainer-gym-baselines\" target=\"_blank\">https://wandb.ai/wpi-mmr/autotrainer-gym-baselines</a><br/>\n",
       "                Run page: <a href=\"https://wandb.ai/wpi-mmr/autotrainer-gym-baselines/runs/2mydbizq\" target=\"_blank\">https://wandb.ai/wpi-mmr/autotrainer-gym-baselines/runs/2mydbizq</a><br/>\n",
       "                Run data is saved locally in <code>/sources/learning_experiments/experiments/notebooks/gym-baselines/wandb/run-20210210_182541-2mydbizq</code><br/><br/>\n",
       "            "
      ],
      "text/plain": [
       "<IPython.core.display.HTML object>"
      ]
     },
     "metadata": {},
     "output_type": "display_data"
    },
    {
     "data": {
      "text/plain": [
       "{'episodes': 10000, 'episode_length': 750, 'policy': 'MlpPolicy', 'algorithm': 'PPO2', 'num_workers': 8, 'eval_episodes': 5, 'eval_frequency': 25, 'eval_render_freq': 9, 'fps': 20}"
      ]
     },
     "execution_count": 5,
     "metadata": {},
     "output_type": "execute_result"
    }
   ],
   "source": [
    "config, run = auto_trainer.get_synced_config(config, TAGS)\n",
    "config"
   ]
  },
  {
   "cell_type": "markdown",
   "metadata": {},
   "source": [
    "## Create a virtual display for environment rendering"
   ]
  },
  {
   "cell_type": "code",
   "execution_count": 6,
   "metadata": {},
   "outputs": [
    {
     "data": {
      "text/plain": [
       "<pyvirtualdisplay.display.Display at 0x7fd20f950910>"
      ]
     },
     "execution_count": 6,
     "metadata": {},
     "output_type": "execute_result"
    }
   ],
   "source": [
    "import pyvirtualdisplay\n",
    "display = pyvirtualdisplay.Display(visible=False, size=(1400, 900))\n",
    "display.start()"
   ]
  },
  {
   "cell_type": "markdown",
   "metadata": {},
   "source": [
    "## Create a normalized wrapper for the Pendulum Environment\n",
    "The vanilla Pendulum enviornment has its action and observation spaces outside of $[-1, 1]$. Create a simple wrapper to apply min/max scaling to the respective values. Note that the default Pendulum environment doesn't have a termination state, so artifically create a termination condition."
   ]
  },
  {
   "cell_type": "code",
   "execution_count": 7,
   "metadata": {},
   "outputs": [],
   "source": [
    "from gym.envs.classic_control import pendulum\n",
    "from gym import spaces\n",
    "import gym\n",
    "\n",
    "class NormalizedPendulum(pendulum.PendulumEnv):\n",
    "    def __init__(self, length: int = 1000):\n",
    "        super().__init__()\n",
    "        self.unscaled_obs_space = self.observation_space\n",
    "        self.action_space = spaces.Box(low=-1., high=1., shape=(1,))\n",
    "        self.observation_space = spaces.Box(low=-1., high=1., shape=(3,))\n",
    "        \n",
    "        self._length = length\n",
    "        self._cnt = 0\n",
    "    \n",
    "    def reset(self):\n",
    "        self._cnt = 0\n",
    "        return super().reset()\n",
    "    \n",
    "    def step(self, u):\n",
    "        self._cnt += 1\n",
    "        \n",
    "        obs, reward, done, info = super().step(u * self.max_torque)\n",
    "        if self._cnt % self._length == 0:\n",
    "            return obs, reward, True, info\n",
    "        else:\n",
    "            return obs, reward, done, info\n",
    "    \n",
    "    def _get_obs(self):\n",
    "        return super()._get_obs() / self.unscaled_obs_space.high"
   ]
  },
  {
   "cell_type": "markdown",
   "metadata": {},
   "source": [
    "Create the environment generator"
   ]
  },
  {
   "cell_type": "code",
   "execution_count": 9,
   "metadata": {},
   "outputs": [],
   "source": [
    "def make_env(length):\n",
    "    def _init():\n",
    "        return NormalizedPendulum(length)\n",
    "    return _init"
   ]
  },
  {
   "cell_type": "markdown",
   "metadata": {},
   "source": [
    "### Create the Envs\n",
    "Import the desired vectorized env"
   ]
  },
  {
   "cell_type": "code",
   "execution_count": 10,
   "metadata": {},
   "outputs": [],
   "source": [
    "from stable_baselines.common.vec_env import SubprocVecEnv\n",
    "from stable_baselines.common.vec_env import VecNormalize"
   ]
  },
  {
   "cell_type": "markdown",
   "metadata": {},
   "source": [
    "Create training & testing environments"
   ]
  },
  {
   "cell_type": "code",
   "execution_count": 11,
   "metadata": {},
   "outputs": [],
   "source": [
    "train_env = SubprocVecEnv([make_env(config.episode_length) \n",
    "                           for _ in range(config.num_workers)])\n",
    "test_env = make_env(config.episode_length)()"
   ]
  },
  {
   "cell_type": "markdown",
   "metadata": {},
   "source": [
    "## Learning\n",
    "And we're off!"
   ]
  },
  {
   "cell_type": "code",
   "execution_count": null,
   "metadata": {
    "scrolled": true
   },
   "outputs": [
    {
     "name": "stdout",
     "output_type": "stream",
     "text": [
      "WARNING:tensorflow:From /usr/local/lib/python3.7/dist-packages/stable_baselines/common/tf_util.py:191: The name tf.ConfigProto is deprecated. Please use tf.compat.v1.ConfigProto instead.\n",
      "\n",
      "WARNING:tensorflow:From /usr/local/lib/python3.7/dist-packages/stable_baselines/common/tf_util.py:200: The name tf.Session is deprecated. Please use tf.compat.v1.Session instead.\n",
      "\n",
      "WARNING:tensorflow:From /usr/local/lib/python3.7/dist-packages/stable_baselines/common/policies.py:116: The name tf.variable_scope is deprecated. Please use tf.compat.v1.variable_scope instead.\n",
      "\n",
      "WARNING:tensorflow:From /usr/local/lib/python3.7/dist-packages/stable_baselines/common/input.py:25: The name tf.placeholder is deprecated. Please use tf.compat.v1.placeholder instead.\n",
      "\n",
      "WARNING:tensorflow:From /usr/local/lib/python3.7/dist-packages/stable_baselines/common/policies.py:561: flatten (from tensorflow.python.layers.core) is deprecated and will be removed in a future version.\n",
      "Instructions for updating:\n",
      "Use keras.layers.flatten instead.\n",
      "WARNING:tensorflow:From /usr/local/lib/python3.7/dist-packages/tensorflow_core/python/layers/core.py:332: Layer.apply (from tensorflow.python.keras.engine.base_layer) is deprecated and will be removed in a future version.\n",
      "Instructions for updating:\n",
      "Please use `layer.__call__` method instead.\n",
      "WARNING:tensorflow:From /usr/local/lib/python3.7/dist-packages/stable_baselines/common/tf_layers.py:123: The name tf.get_variable is deprecated. Please use tf.compat.v1.get_variable instead.\n",
      "\n",
      "WARNING:tensorflow:From /usr/local/lib/python3.7/dist-packages/stable_baselines/common/distributions.py:418: The name tf.random_normal is deprecated. Please use tf.random.normal instead.\n",
      "\n",
      "WARNING:tensorflow:From /usr/local/lib/python3.7/dist-packages/stable_baselines/ppo2/ppo2.py:190: The name tf.summary.scalar is deprecated. Please use tf.compat.v1.summary.scalar instead.\n",
      "\n",
      "WARNING:tensorflow:From /usr/local/lib/python3.7/dist-packages/stable_baselines/ppo2/ppo2.py:198: The name tf.trainable_variables is deprecated. Please use tf.compat.v1.trainable_variables instead.\n",
      "\n",
      "WARNING:tensorflow:From /usr/local/lib/python3.7/dist-packages/tensorflow_core/python/ops/math_grad.py:1424: where (from tensorflow.python.ops.array_ops) is deprecated and will be removed in a future version.\n",
      "Instructions for updating:\n",
      "Use tf.where in 2.0, which has the same broadcast rule as np.where\n",
      "WARNING:tensorflow:From /usr/local/lib/python3.7/dist-packages/stable_baselines/ppo2/ppo2.py:206: The name tf.train.AdamOptimizer is deprecated. Please use tf.compat.v1.train.AdamOptimizer instead.\n",
      "\n",
      "WARNING:tensorflow:From /usr/local/lib/python3.7/dist-packages/stable_baselines/ppo2/ppo2.py:240: The name tf.global_variables_initializer is deprecated. Please use tf.compat.v1.global_variables_initializer instead.\n",
      "\n",
      "WARNING:tensorflow:From /usr/local/lib/python3.7/dist-packages/stable_baselines/ppo2/ppo2.py:242: The name tf.summary.merge_all is deprecated. Please use tf.compat.v1.summary.merge_all instead.\n",
      "\n",
      "WARNING:tensorflow:From /usr/local/lib/python3.7/dist-packages/stable_baselines/common/base_class.py:1169: The name tf.summary.FileWriter is deprecated. Please use tf.compat.v1.summary.FileWriter instead.\n",
      "\n",
      "---------------------------------------\n",
      "| approxkl           | 1.7475563e-06  |\n",
      "| clipfrac           | 0.0            |\n",
      "| explained_variance | 0.0079         |\n",
      "| fps                | 1759           |\n",
      "| n_updates          | 1              |\n",
      "| policy_entropy     | 1.4193635      |\n",
      "| policy_loss        | -2.7332295e-05 |\n",
      "| serial_timesteps   | 128            |\n",
      "| time_elapsed       | 0.00023        |\n",
      "| total_timesteps    | 1024           |\n",
      "| value_loss         | 5202.129       |\n",
      "---------------------------------------\n",
      "WARNING:tensorflow:From /usr/local/lib/python3.7/dist-packages/stable_baselines/common/tf_util.py:502: The name tf.Summary is deprecated. Please use tf.compat.v1.Summary instead.\n",
      "\n"
     ]
    },
    {
     "name": "stderr",
     "output_type": "stream",
     "text": [
      "\u001b[34m\u001b[1mwandb\u001b[0m: \u001b[33mWARNING\u001b[0m Step cannot be set when using syncing with tensorboard. Please log your step values as a metric such as 'global_step'\n"
     ]
    },
    {
     "name": "stdout",
     "output_type": "stream",
     "text": [
      "--------------------------------------\n",
      "| approxkl           | 0.00032426487 |\n",
      "| clipfrac           | 0.0           |\n",
      "| explained_variance | 0.00168       |\n",
      "| fps                | 3712          |\n",
      "| n_updates          | 250           |\n",
      "| policy_entropy     | 1.4304162     |\n",
      "| policy_loss        | -0.0004787963 |\n",
      "| serial_timesteps   | 32000         |\n",
      "| time_elapsed       | 147           |\n",
      "| total_timesteps    | 256000        |\n",
      "| value_loss         | 2807.2314     |\n",
      "--------------------------------------\n",
      "---------------------------------------\n",
      "| approxkl           | 1.3010788e-05  |\n",
      "| clipfrac           | 0.0            |\n",
      "| explained_variance | 0.0001         |\n",
      "| fps                | 2855           |\n",
      "| n_updates          | 500            |\n",
      "| policy_entropy     | 1.4360393      |\n",
      "| policy_loss        | -8.5928186e-05 |\n",
      "| serial_timesteps   | 64000          |\n",
      "| time_elapsed       | 290            |\n",
      "| total_timesteps    | 512000         |\n",
      "| value_loss         | 1539.0027      |\n",
      "---------------------------------------\n",
      "-------------------------------------\n",
      "| approxkl           | 0.0010556908 |\n",
      "| clipfrac           | 0.0026855469 |\n",
      "| explained_variance | 3.87e-06     |\n",
      "| fps                | 4448         |\n",
      "| n_updates          | 750          |\n",
      "| policy_entropy     | 1.4619218    |\n",
      "| policy_loss        | -0.003665112 |\n",
      "| serial_timesteps   | 96000        |\n",
      "| time_elapsed       | 463          |\n",
      "| total_timesteps    | 768000       |\n",
      "| value_loss         | 2598.0334    |\n",
      "-------------------------------------\n",
      "--------------------------------------\n",
      "| approxkl           | 1.3884288e-05 |\n",
      "| clipfrac           | 0.0           |\n",
      "| explained_variance | 1.84e-05      |\n",
      "| fps                | 2115          |\n",
      "| n_updates          | 1000          |\n",
      "| policy_entropy     | 1.4593362     |\n",
      "| policy_loss        | 7.3200354e-05 |\n",
      "| serial_timesteps   | 128000        |\n",
      "| time_elapsed       | 654           |\n",
      "| total_timesteps    | 1024000       |\n",
      "| value_loss         | 1529.1602     |\n",
      "--------------------------------------\n",
      "---------------------------------------\n",
      "| approxkl           | 8.4871556e-07  |\n",
      "| clipfrac           | 0.0            |\n",
      "| explained_variance | 0.0479         |\n",
      "| fps                | 3424           |\n",
      "| n_updates          | 1250           |\n",
      "| policy_entropy     | 1.457792       |\n",
      "| policy_loss        | -3.4704164e-05 |\n",
      "| serial_timesteps   | 160000         |\n",
      "| time_elapsed       | 817            |\n",
      "| total_timesteps    | 1280000        |\n",
      "| value_loss         | 940.768        |\n",
      "---------------------------------------\n",
      "---------------------------------------\n",
      "| approxkl           | 1.3659947e-05  |\n",
      "| clipfrac           | 0.0            |\n",
      "| explained_variance | 0.0163         |\n",
      "| fps                | 3732           |\n",
      "| n_updates          | 1500           |\n",
      "| policy_entropy     | 1.4772048      |\n",
      "| policy_loss        | -0.00013684435 |\n",
      "| serial_timesteps   | 192000         |\n",
      "| time_elapsed       | 950            |\n",
      "| total_timesteps    | 1536000        |\n",
      "| value_loss         | 3792.3484      |\n",
      "---------------------------------------\n",
      "--------------------------------------\n",
      "| approxkl           | 9.7576085e-06 |\n",
      "| clipfrac           | 0.0           |\n",
      "| explained_variance | 0.498         |\n",
      "| fps                | 3629          |\n",
      "| n_updates          | 1750          |\n",
      "| policy_entropy     | 1.4922867     |\n",
      "| policy_loss        | 0.00011163097 |\n",
      "| serial_timesteps   | 224000        |\n",
      "| time_elapsed       | 1.09e+03      |\n",
      "| total_timesteps    | 1792000       |\n",
      "| value_loss         | 572.5247      |\n",
      "--------------------------------------\n",
      "---------------------------------------\n",
      "| approxkl           | 7.809148e-05   |\n",
      "| clipfrac           | 0.0            |\n",
      "| explained_variance | 0.598          |\n",
      "| fps                | 3140           |\n",
      "| n_updates          | 2000           |\n",
      "| policy_entropy     | 1.5618623      |\n",
      "| policy_loss        | -0.00031090569 |\n",
      "| serial_timesteps   | 256000         |\n",
      "| time_elapsed       | 1.28e+03       |\n",
      "| total_timesteps    | 2048000        |\n",
      "| value_loss         | 363.59073      |\n",
      "---------------------------------------\n",
      "---------------------------------------\n",
      "| approxkl           | 1.2789702e-05  |\n",
      "| clipfrac           | 0.0            |\n",
      "| explained_variance | 0.0627         |\n",
      "| fps                | 3223           |\n",
      "| n_updates          | 2250           |\n",
      "| policy_entropy     | 1.6034862      |\n",
      "| policy_loss        | 0.000107978296 |\n",
      "| serial_timesteps   | 288000         |\n",
      "| time_elapsed       | 1.45e+03       |\n",
      "| total_timesteps    | 2304000        |\n",
      "| value_loss         | 6527.8447      |\n",
      "---------------------------------------\n",
      "---------------------------------------\n",
      "| approxkl           | 2.3853398e-05  |\n",
      "| clipfrac           | 0.0            |\n",
      "| explained_variance | 0.844          |\n",
      "| fps                | 2833           |\n",
      "| n_updates          | 2500           |\n",
      "| policy_entropy     | 1.635498       |\n",
      "| policy_loss        | -1.8282153e-05 |\n",
      "| serial_timesteps   | 320000         |\n",
      "| time_elapsed       | 1.61e+03       |\n",
      "| total_timesteps    | 2560000        |\n",
      "| value_loss         | 245.23952      |\n",
      "---------------------------------------\n",
      "---------------------------------------\n",
      "| approxkl           | 2.827405e-05   |\n",
      "| clipfrac           | 0.0            |\n",
      "| explained_variance | 0.864          |\n",
      "| fps                | 4532           |\n",
      "| n_updates          | 2750           |\n",
      "| policy_entropy     | 1.6621557      |\n",
      "| policy_loss        | -0.00051300204 |\n",
      "| serial_timesteps   | 352000         |\n",
      "| time_elapsed       | 1.75e+03       |\n",
      "| total_timesteps    | 2816000        |\n",
      "| value_loss         | 223.98172      |\n",
      "---------------------------------------\n",
      "---------------------------------------\n",
      "| approxkl           | 4.532368e-05   |\n",
      "| clipfrac           | 0.0            |\n",
      "| explained_variance | 0.0168         |\n",
      "| fps                | 4128           |\n",
      "| n_updates          | 3000           |\n",
      "| policy_entropy     | 1.6783321      |\n",
      "| policy_loss        | -0.00011714321 |\n",
      "| serial_timesteps   | 384000         |\n",
      "| time_elapsed       | 1.88e+03       |\n",
      "| total_timesteps    | 3072000        |\n",
      "| value_loss         | 7671.3657      |\n",
      "---------------------------------------\n",
      "--------------------------------------\n",
      "| approxkl           | 2.2860042e-06 |\n",
      "| clipfrac           | 0.0           |\n",
      "| explained_variance | 0.758         |\n",
      "| fps                | 4880          |\n",
      "| n_updates          | 3250          |\n",
      "| policy_entropy     | 1.7198251     |\n",
      "| policy_loss        | 1.645417e-05  |\n",
      "| serial_timesteps   | 416000        |\n",
      "| time_elapsed       | 2.02e+03      |\n",
      "| total_timesteps    | 3328000       |\n",
      "| value_loss         | 455.4414      |\n",
      "--------------------------------------\n",
      "-------------------------------------\n",
      "| approxkl           | 0.000257916  |\n",
      "| clipfrac           | 0.0012207031 |\n",
      "| explained_variance | 0.904        |\n",
      "| fps                | 4361         |\n",
      "| n_updates          | 3500         |\n",
      "| policy_entropy     | 1.7538013    |\n",
      "| policy_loss        | -0.001890025 |\n",
      "| serial_timesteps   | 448000       |\n",
      "| time_elapsed       | 2.15e+03     |\n",
      "| total_timesteps    | 3584000      |\n",
      "| value_loss         | 233.48169    |\n",
      "-------------------------------------\n",
      "--------------------------------------\n",
      "| approxkl           | 7.695211e-05  |\n",
      "| clipfrac           | 0.0           |\n",
      "| explained_variance | 0.12          |\n",
      "| fps                | 4734          |\n",
      "| n_updates          | 3750          |\n",
      "| policy_entropy     | 1.7761585     |\n",
      "| policy_loss        | 0.00031710326 |\n",
      "| serial_timesteps   | 480000        |\n",
      "| time_elapsed       | 2.28e+03      |\n",
      "| total_timesteps    | 3840000       |\n",
      "| value_loss         | 8373.536      |\n",
      "--------------------------------------\n",
      "---------------------------------------\n",
      "| approxkl           | 1.2018652e-05  |\n",
      "| clipfrac           | 0.0            |\n",
      "| explained_variance | 0.387          |\n",
      "| fps                | 4542           |\n",
      "| n_updates          | 4000           |\n",
      "| policy_entropy     | 1.8383565      |\n",
      "| policy_loss        | -1.6142847e-05 |\n",
      "| serial_timesteps   | 512000         |\n",
      "| time_elapsed       | 2.41e+03       |\n",
      "| total_timesteps    | 4096000        |\n",
      "| value_loss         | 836.597        |\n",
      "---------------------------------------\n",
      "---------------------------------------\n",
      "| approxkl           | 4.9981278e-05  |\n",
      "| clipfrac           | 0.0            |\n",
      "| explained_variance | 0.819          |\n",
      "| fps                | 4519           |\n",
      "| n_updates          | 4250           |\n",
      "| policy_entropy     | 1.8779187      |\n",
      "| policy_loss        | -0.00034053886 |\n",
      "| serial_timesteps   | 544000         |\n",
      "| time_elapsed       | 2.54e+03       |\n",
      "| total_timesteps    | 4352000        |\n",
      "| value_loss         | 247.897        |\n",
      "---------------------------------------\n",
      "---------------------------------------\n",
      "| approxkl           | 2.5919777e-05  |\n",
      "| clipfrac           | 0.0            |\n",
      "| explained_variance | 0.01           |\n",
      "| fps                | 3970           |\n",
      "| n_updates          | 4500           |\n",
      "| policy_entropy     | 1.9627084      |\n",
      "| policy_loss        | -0.00017143937 |\n",
      "| serial_timesteps   | 576000         |\n",
      "| time_elapsed       | 2.67e+03       |\n",
      "| total_timesteps    | 4608000        |\n",
      "| value_loss         | 8154.688       |\n",
      "---------------------------------------\n",
      "-------------------------------------\n",
      "| approxkl           | 0.0011735314 |\n",
      "| clipfrac           | 0.0068359375 |\n",
      "| explained_variance | 0.812        |\n",
      "| fps                | 3865         |\n",
      "| n_updates          | 4750         |\n",
      "| policy_entropy     | 1.9980317    |\n",
      "| policy_loss        | -0.002822298 |\n",
      "| serial_timesteps   | 608000       |\n",
      "| time_elapsed       | 2.8e+03      |\n",
      "| total_timesteps    | 4864000      |\n",
      "| value_loss         | 724.1217     |\n",
      "-------------------------------------\n",
      "--------------------------------------\n",
      "| approxkl           | 0.00042263384 |\n",
      "| clipfrac           | 0.00024414062 |\n",
      "| explained_variance | 0.948         |\n",
      "| fps                | 189           |\n",
      "| n_updates          | 5000          |\n",
      "| policy_entropy     | 2.0872614     |\n",
      "| policy_loss        | -0.002336957  |\n",
      "| serial_timesteps   | 640000        |\n",
      "| time_elapsed       | 2.92e+03      |\n",
      "| total_timesteps    | 5120000       |\n",
      "| value_loss         | 154.74486     |\n",
      "--------------------------------------\n",
      "--------------------------------------\n",
      "| approxkl           | 3.491693e-05  |\n",
      "| clipfrac           | 0.0           |\n",
      "| explained_variance | 0.163         |\n",
      "| fps                | 3997          |\n",
      "| n_updates          | 5250          |\n",
      "| policy_entropy     | 2.1545873     |\n",
      "| policy_loss        | 0.00023684453 |\n",
      "| serial_timesteps   | 672000        |\n",
      "| time_elapsed       | 3.05e+03      |\n",
      "| total_timesteps    | 5376000       |\n",
      "| value_loss         | 6490.0947     |\n",
      "--------------------------------------\n",
      "---------------------------------------\n",
      "| approxkl           | 5.8617705e-05  |\n",
      "| clipfrac           | 0.0            |\n",
      "| explained_variance | 0.98           |\n",
      "| fps                | 4704           |\n",
      "| n_updates          | 5500           |\n",
      "| policy_entropy     | 2.17495        |\n",
      "| policy_loss        | -0.00090129115 |\n",
      "| serial_timesteps   | 704000         |\n",
      "| time_elapsed       | 3.18e+03       |\n",
      "| total_timesteps    | 5632000        |\n",
      "| value_loss         | 172.8902       |\n",
      "---------------------------------------\n",
      "--------------------------------------\n",
      "| approxkl           | 8.1871785e-06 |\n",
      "| clipfrac           | 0.0           |\n",
      "| explained_variance | 0.944         |\n",
      "| fps                | 4726          |\n",
      "| n_updates          | 5750          |\n",
      "| policy_entropy     | 2.2800024     |\n",
      "| policy_loss        | -2.4187e-05   |\n",
      "| serial_timesteps   | 736000        |\n",
      "| time_elapsed       | 3.31e+03      |\n",
      "| total_timesteps    | 5888000       |\n",
      "| value_loss         | 377.7104      |\n",
      "--------------------------------------\n",
      "--------------------------------------\n",
      "| approxkl           | 9.8810215e-06 |\n",
      "| clipfrac           | 0.0           |\n",
      "| explained_variance | 0.216         |\n",
      "| fps                | 4666          |\n",
      "| n_updates          | 6000          |\n",
      "| policy_entropy     | 2.261838      |\n",
      "| policy_loss        | 2.8929993e-05 |\n",
      "| serial_timesteps   | 768000        |\n",
      "| time_elapsed       | 3.44e+03      |\n",
      "| total_timesteps    | 6144000       |\n",
      "| value_loss         | 6207.4604     |\n",
      "--------------------------------------\n",
      "--------------------------------------\n",
      "| approxkl           | 0.00013810184 |\n",
      "| clipfrac           | 0.0           |\n",
      "| explained_variance | 0.942         |\n",
      "| fps                | 3860          |\n",
      "| n_updates          | 6250          |\n",
      "| policy_entropy     | 2.276208      |\n",
      "| policy_loss        | -0.001346072  |\n",
      "| serial_timesteps   | 800000        |\n",
      "| time_elapsed       | 3.57e+03      |\n",
      "| total_timesteps    | 6400000       |\n",
      "| value_loss         | 382.587       |\n",
      "--------------------------------------\n",
      "---------------------------------------\n",
      "| approxkl           | 7.5929765e-06  |\n",
      "| clipfrac           | 0.0            |\n",
      "| explained_variance | 0.935          |\n",
      "| fps                | 4165           |\n",
      "| n_updates          | 6500           |\n",
      "| policy_entropy     | 2.2712805      |\n",
      "| policy_loss        | -0.00023404948 |\n",
      "| serial_timesteps   | 832000         |\n",
      "| time_elapsed       | 3.7e+03        |\n",
      "| total_timesteps    | 6656000        |\n",
      "| value_loss         | 237.03702      |\n",
      "---------------------------------------\n",
      "---------------------------------------\n",
      "| approxkl           | 0.00012281707  |\n",
      "| clipfrac           | 0.0            |\n",
      "| explained_variance | 0.794          |\n",
      "| fps                | 4855           |\n",
      "| n_updates          | 6750           |\n",
      "| policy_entropy     | 2.0560203      |\n",
      "| policy_loss        | -0.00020393598 |\n",
      "| serial_timesteps   | 864000         |\n",
      "| time_elapsed       | 3.82e+03       |\n",
      "| total_timesteps    | 6912000        |\n",
      "| value_loss         | 1749.0574      |\n",
      "---------------------------------------\n",
      "----------------------------------------\n",
      "| approxkl           | 1.3213363e-05   |\n",
      "| clipfrac           | 0.0             |\n",
      "| explained_variance | 0.979           |\n",
      "| fps                | 4652            |\n",
      "| n_updates          | 7000            |\n",
      "| policy_entropy     | 1.9706434       |\n",
      "| policy_loss        | -0.000116313895 |\n",
      "| serial_timesteps   | 896000          |\n",
      "| time_elapsed       | 3.95e+03        |\n",
      "| total_timesteps    | 7168000         |\n",
      "| value_loss         | 472.52646       |\n",
      "----------------------------------------\n",
      "--------------------------------------\n",
      "| approxkl           | 3.4334756e-05 |\n",
      "| clipfrac           | 0.0           |\n",
      "| explained_variance | 0.953         |\n",
      "| fps                | 4992          |\n",
      "| n_updates          | 7250          |\n",
      "| policy_entropy     | 1.8052295     |\n",
      "| policy_loss        | 0.0001258339  |\n",
      "| serial_timesteps   | 928000        |\n",
      "| time_elapsed       | 4.08e+03      |\n",
      "| total_timesteps    | 7424000       |\n",
      "| value_loss         | 416.3555      |\n",
      "--------------------------------------\n"
     ]
    },
    {
     "data": {
      "text/html": [
       "<br/>Waiting for W&B process to finish, PID 10168<br/>Program ended successfully."
      ],
      "text/plain": [
       "<IPython.core.display.HTML object>"
      ]
     },
     "metadata": {},
     "output_type": "display_data"
    }
   ],
   "source": [
    "model, config, run = auto_trainer.train(train_env, test_env, config, TAGS, \n",
    "                                        log_freq=250, full_logging=False, run=run)"
   ]
  },
  {
   "cell_type": "code",
   "execution_count": null,
   "metadata": {},
   "outputs": [],
   "source": []
  }
 ],
 "metadata": {
  "jupytext": {
   "text_representation": {
    "extension": ".py",
    "format_name": "percent",
    "format_version": "1.3",
    "jupytext_version": "1.10.0"
   }
  },
  "kernelspec": {
   "display_name": "Python 3",
   "language": "python",
   "name": "python3"
  },
  "language_info": {
   "codemirror_mode": {
    "name": "ipython",
    "version": 3
   },
   "file_extension": ".py",
   "mimetype": "text/x-python",
   "name": "python",
   "nbconvert_exporter": "python",
   "pygments_lexer": "ipython3",
   "version": "3.7.5"
  }
 },
 "nbformat": 4,
 "nbformat_minor": 4
}
