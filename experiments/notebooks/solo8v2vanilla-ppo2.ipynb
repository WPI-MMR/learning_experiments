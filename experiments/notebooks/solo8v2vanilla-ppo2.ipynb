{
 "cells": [
  {
   "cell_type": "markdown",
   "metadata": {},
   "source": [
    "# PPO2 on Solo8 v2 Vanilla w/ Fixed Timestamp\n",
    "Only use the time-based stopping criteria. This is more of a rudamentary test more than anything."
   ]
  },
  {
   "cell_type": "markdown",
   "metadata": {},
   "source": [
    "## Ensure that Tensorflow is using the GPU"
   ]
  },
  {
   "cell_type": "code",
   "execution_count": 1,
   "metadata": {},
   "outputs": [
    {
     "name": "stdout",
     "output_type": "stream",
     "text": [
      "Default GPU Device: /device:GPU:0\n"
     ]
    }
   ],
   "source": [
    "import tensorflow as tf\n",
    "if tf.test.gpu_device_name():\n",
    "    print('Default GPU Device: {}'.format(tf.test.gpu_device_name()))\n",
    "else:\n",
    "    print(\"Please install GPU version of TF\")"
   ]
  },
  {
   "cell_type": "markdown",
   "metadata": {},
   "source": [
    "## Define Experiment Tags"
   ]
  },
  {
   "cell_type": "code",
   "execution_count": 2,
   "metadata": {},
   "outputs": [],
   "source": [
    "TAGS = ['solov2vanilla', 'gpu', 'home_pos_task']"
   ]
  },
  {
   "cell_type": "markdown",
   "metadata": {},
   "source": [
    "## Get Solo Environment Configuration"
   ]
  },
  {
   "cell_type": "markdown",
   "metadata": {},
   "source": [
    "Import the relevant libraries + rewards & observations"
   ]
  },
  {
   "cell_type": "code",
   "execution_count": 3,
   "metadata": {},
   "outputs": [],
   "source": [
    "from gym_solo.envs import solo8v2vanilla\n",
    "from gym_solo.core import obs\n",
    "from gym_solo.core import rewards\n",
    "from gym_solo.core import termination as terms\n",
    "\n",
    "import gym\n",
    "import gym_solo"
   ]
  },
  {
   "cell_type": "markdown",
   "metadata": {},
   "source": [
    "Create the config for the enviornment"
   ]
  },
  {
   "cell_type": "code",
   "execution_count": 4,
   "metadata": {},
   "outputs": [],
   "source": [
    "env_config = solo8v2vanilla.Solo8VanillaConfig()"
   ]
  },
  {
   "cell_type": "markdown",
   "metadata": {},
   "source": [
    "## Parse CLI arguments and register w/ wandb"
   ]
  },
  {
   "cell_type": "markdown",
   "metadata": {},
   "source": [
    "This experiment will be using the auto trainer to handle all of the hyperparmeter running"
   ]
  },
  {
   "cell_type": "code",
   "execution_count": 5,
   "metadata": {},
   "outputs": [
    {
     "name": "stdout",
     "output_type": "stream",
     "text": [
      "WARNING:tensorflow:\n",
      "The TensorFlow contrib module will not be included in TensorFlow 2.0.\n",
      "For more information, please see:\n",
      "  * https://github.com/tensorflow/community/blob/master/rfcs/20180907-contrib-sunset.md\n",
      "  * https://github.com/tensorflow/addons\n",
      "  * https://github.com/tensorflow/io (for I/O related ops)\n",
      "If you depend on functionality not listed there, please file an issue.\n",
      "\n"
     ]
    }
   ],
   "source": [
    "from auto_trainer import params\n",
    "import auto_trainer"
   ]
  },
  {
   "cell_type": "markdown",
   "metadata": {},
   "source": [
    "Create a basic config. Give the robot a total of 60 seconds simulation time to learn how to stand."
   ]
  },
  {
   "cell_type": "code",
   "execution_count": 6,
   "metadata": {},
   "outputs": [
    {
     "name": "stderr",
     "output_type": "stream",
     "text": [
      "\u001b[34m\u001b[1mwandb\u001b[0m: Currently logged in as: \u001b[33magupta231\u001b[0m (use `wandb login --relogin` to force relogin)\n",
      "/usr/local/lib/python3.7/dist-packages/IPython/html.py:14: ShimWarning: The `IPython.html` package has been deprecated since IPython 4.0. You should import from `notebook` instead. `IPython.html.widgets` has moved to `ipywidgets`.\n",
      "  \"`IPython.html.widgets` has moved to `ipywidgets`.\", ShimWarning)\n"
     ]
    },
    {
     "data": {
      "text/html": [
       "\n",
       "                Tracking run with wandb version 0.10.14<br/>\n",
       "                Syncing run <strong style=\"color:#cdcd00\">dauntless-dew-60</strong> to <a href=\"https://wandb.ai\" target=\"_blank\">Weights & Biases</a> <a href=\"https://docs.wandb.com/integrations/jupyter.html\" target=\"_blank\">(Documentation)</a>.<br/>\n",
       "                Project page: <a href=\"https://wandb.ai/wpi-mmr/solo-rl-experiments\" target=\"_blank\">https://wandb.ai/wpi-mmr/solo-rl-experiments</a><br/>\n",
       "                Run page: <a href=\"https://wandb.ai/wpi-mmr/solo-rl-experiments/runs/3dd8ljjl\" target=\"_blank\">https://wandb.ai/wpi-mmr/solo-rl-experiments/runs/3dd8ljjl</a><br/>\n",
       "                Run data is saved locally in <code>/sources/learning_experiments/experiments/notebooks/wandb/run-20210120_164953-3dd8ljjl</code><br/><br/>\n",
       "            "
      ],
      "text/plain": [
       "<IPython.core.display.HTML object>"
      ]
     },
     "metadata": {},
     "output_type": "display_data"
    },
    {
     "data": {
      "text/plain": [
       "{'episodes': 500000, 'episode_length': 10000.0, 'policy': 'MlpPolicy', 'algorithm': 'PPO2'}"
      ]
     },
     "execution_count": 6,
     "metadata": {},
     "output_type": "execute_result"
    }
   ],
   "source": [
    "config = params.BaseParameters().parse()\n",
    "\n",
    "config.episodes = 500000\n",
    "config.episode_length = 10 / env_config.dt\n",
    "\n",
    "config, run = auto_trainer.get_synced_config(config, TAGS)\n",
    "config"
   ]
  },
  {
   "cell_type": "markdown",
   "metadata": {},
   "source": [
    "## Setup Environment\n",
    "Add the following inputs to the robot / environment:\n",
    "\n",
    "**Observations**\n",
    "- TorsoIMU\n",
    "- Motor encoder current values\n",
    "\n",
    "**Reward**\n",
    "- How upright the TorsoIMU is. Valued in $[-1, 1]$\n",
    "\n",
    "**Termination Criteria**\n",
    "- Terminate after $n$ timesteps"
   ]
  },
  {
   "cell_type": "code",
   "execution_count": 7,
   "metadata": {},
   "outputs": [
    {
     "name": "stderr",
     "output_type": "stream",
     "text": [
      "/usr/local/lib/python3.7/dist-packages/gym/logger.py:30: UserWarning: \u001b[33mWARN: Box bound precision lowered by casting to float32\u001b[0m\n",
      "  warnings.warn(colorize('%s: %s'%('WARN', msg % args), 'yellow'))\n"
     ]
    }
   ],
   "source": [
    "env = gym.make('solo8vanilla-v0', config=env_config)\n",
    "\n",
    "env.obs_factory.register_observation(obs.TorsoIMU(env.robot))\n",
    "env.obs_factory.register_observation(obs.MotorEncoder(env.robot))\n",
    "\n",
    "# env.reward_factory.register_reward(1, rewards.UprightReward(env.robot))\n",
    "env.reward_factory.register_reward(1, rewards.HomePositionReward(env.robot))\n",
    "\n",
    "env.termination_factory.register_termination(terms.TimeBasedTermination(config.episode_length))"
   ]
  },
  {
   "cell_type": "markdown",
   "metadata": {},
   "source": [
    "## Learning"
   ]
  },
  {
   "cell_type": "code",
   "execution_count": 8,
   "metadata": {
    "scrolled": true
   },
   "outputs": [
    {
     "name": "stdout",
     "output_type": "stream",
     "text": [
      "Wrapping the env in a DummyVecEnv.\n",
      "WARNING:tensorflow:From /usr/local/lib/python3.7/dist-packages/stable_baselines/common/tf_util.py:191: The name tf.ConfigProto is deprecated. Please use tf.compat.v1.ConfigProto instead.\n",
      "\n",
      "WARNING:tensorflow:From /usr/local/lib/python3.7/dist-packages/stable_baselines/common/tf_util.py:200: The name tf.Session is deprecated. Please use tf.compat.v1.Session instead.\n",
      "\n",
      "WARNING:tensorflow:From /usr/local/lib/python3.7/dist-packages/stable_baselines/common/policies.py:116: The name tf.variable_scope is deprecated. Please use tf.compat.v1.variable_scope instead.\n",
      "\n",
      "WARNING:tensorflow:From /usr/local/lib/python3.7/dist-packages/stable_baselines/common/input.py:25: The name tf.placeholder is deprecated. Please use tf.compat.v1.placeholder instead.\n",
      "\n",
      "WARNING:tensorflow:From /usr/local/lib/python3.7/dist-packages/stable_baselines/common/policies.py:561: flatten (from tensorflow.python.layers.core) is deprecated and will be removed in a future version.\n",
      "Instructions for updating:\n",
      "Use keras.layers.flatten instead.\n",
      "WARNING:tensorflow:From /usr/local/lib/python3.7/dist-packages/tensorflow_core/python/layers/core.py:332: Layer.apply (from tensorflow.python.keras.engine.base_layer) is deprecated and will be removed in a future version.\n",
      "Instructions for updating:\n",
      "Please use `layer.__call__` method instead.\n",
      "WARNING:tensorflow:From /usr/local/lib/python3.7/dist-packages/stable_baselines/common/tf_layers.py:123: The name tf.get_variable is deprecated. Please use tf.compat.v1.get_variable instead.\n",
      "\n",
      "WARNING:tensorflow:From /usr/local/lib/python3.7/dist-packages/stable_baselines/common/distributions.py:418: The name tf.random_normal is deprecated. Please use tf.random.normal instead.\n",
      "\n",
      "WARNING:tensorflow:From /usr/local/lib/python3.7/dist-packages/stable_baselines/ppo2/ppo2.py:190: The name tf.summary.scalar is deprecated. Please use tf.compat.v1.summary.scalar instead.\n",
      "\n",
      "WARNING:tensorflow:From /usr/local/lib/python3.7/dist-packages/stable_baselines/ppo2/ppo2.py:198: The name tf.trainable_variables is deprecated. Please use tf.compat.v1.trainable_variables instead.\n",
      "\n",
      "WARNING:tensorflow:From /usr/local/lib/python3.7/dist-packages/tensorflow_core/python/ops/math_grad.py:1424: where (from tensorflow.python.ops.array_ops) is deprecated and will be removed in a future version.\n",
      "Instructions for updating:\n",
      "Use tf.where in 2.0, which has the same broadcast rule as np.where\n",
      "WARNING:tensorflow:From /usr/local/lib/python3.7/dist-packages/stable_baselines/ppo2/ppo2.py:206: The name tf.train.AdamOptimizer is deprecated. Please use tf.compat.v1.train.AdamOptimizer instead.\n",
      "\n",
      "WARNING:tensorflow:From /usr/local/lib/python3.7/dist-packages/stable_baselines/ppo2/ppo2.py:240: The name tf.global_variables_initializer is deprecated. Please use tf.compat.v1.global_variables_initializer instead.\n",
      "\n",
      "WARNING:tensorflow:From /usr/local/lib/python3.7/dist-packages/stable_baselines/ppo2/ppo2.py:242: The name tf.summary.merge_all is deprecated. Please use tf.compat.v1.summary.merge_all instead.\n",
      "\n",
      "WARNING:tensorflow:From /usr/local/lib/python3.7/dist-packages/stable_baselines/common/base_class.py:1169: The name tf.summary.FileWriter is deprecated. Please use tf.compat.v1.summary.FileWriter instead.\n",
      "\n",
      "-------------------------------------\n",
      "| approxkl           | 0.0037439335 |\n",
      "| clipfrac           | 0.046875     |\n",
      "| explained_variance | -0.146       |\n",
      "| fps                | 209          |\n",
      "| n_updates          | 1            |\n",
      "| policy_entropy     | 17.031416    |\n",
      "| policy_loss        | -0.023764359 |\n",
      "| serial_timesteps   | 128          |\n",
      "| time_elapsed       | 0.000361     |\n",
      "| total_timesteps    | 128          |\n",
      "| value_loss         | 16.367264    |\n",
      "-------------------------------------\n",
      "WARNING:tensorflow:From /usr/local/lib/python3.7/dist-packages/stable_baselines/common/tf_util.py:502: The name tf.Summary is deprecated. Please use tf.compat.v1.Summary instead.\n",
      "\n",
      "-------------------------------------\n",
      "| approxkl           | 0.0033711412 |\n",
      "| clipfrac           | 0.037109375  |\n",
      "| explained_variance | 2.8e-05      |\n",
      "| fps                | 658          |\n",
      "| n_updates          | 500          |\n",
      "| policy_entropy     | 17.77893     |\n",
      "| policy_loss        | -0.014229813 |\n",
      "| serial_timesteps   | 64000        |\n",
      "| time_elapsed       | 108          |\n",
      "| total_timesteps    | 64000        |\n",
      "| value_loss         | 0.083649315  |\n",
      "-------------------------------------\n",
      "-------------------------------------\n",
      "| approxkl           | 0.01039307   |\n",
      "| clipfrac           | 0.1640625    |\n",
      "| explained_variance | -4.17e-06    |\n",
      "| fps                | 643          |\n",
      "| n_updates          | 1000         |\n",
      "| policy_entropy     | 18.356491    |\n",
      "| policy_loss        | -0.019556215 |\n",
      "| serial_timesteps   | 128000       |\n",
      "| time_elapsed       | 205          |\n",
      "| total_timesteps    | 128000       |\n",
      "| value_loss         | 0.03686252   |\n",
      "-------------------------------------\n",
      "-------------------------------------\n",
      "| approxkl           | 0.0046587335 |\n",
      "| clipfrac           | 0.05859375   |\n",
      "| explained_variance | 0.12         |\n",
      "| fps                | 639          |\n",
      "| n_updates          | 1500         |\n",
      "| policy_entropy     | 19.051283    |\n",
      "| policy_loss        | -0.016098373 |\n",
      "| serial_timesteps   | 192000       |\n",
      "| time_elapsed       | 303          |\n",
      "| total_timesteps    | 192000       |\n",
      "| value_loss         | 0.17098868   |\n",
      "-------------------------------------\n",
      "-------------------------------------\n",
      "| approxkl           | 0.0024070772 |\n",
      "| clipfrac           | 0.017578125  |\n",
      "| explained_variance | -0.0238      |\n",
      "| fps                | 700          |\n",
      "| n_updates          | 2000         |\n",
      "| policy_entropy     | 19.791578    |\n",
      "| policy_loss        | -0.008710116 |\n",
      "| serial_timesteps   | 256000       |\n",
      "| time_elapsed       | 399          |\n",
      "| total_timesteps    | 256000       |\n",
      "| value_loss         | 3.191485     |\n",
      "-------------------------------------\n",
      "-------------------------------------\n",
      "| approxkl           | 0.002767323  |\n",
      "| clipfrac           | 0.015625     |\n",
      "| explained_variance | -0.858       |\n",
      "| fps                | 732          |\n",
      "| n_updates          | 2500         |\n",
      "| policy_entropy     | 20.192793    |\n",
      "| policy_loss        | -0.010097688 |\n",
      "| serial_timesteps   | 320000       |\n",
      "| time_elapsed       | 495          |\n",
      "| total_timesteps    | 320000       |\n",
      "| value_loss         | 1.0288141    |\n",
      "-------------------------------------\n",
      "------------------------------------\n",
      "| approxkl           | 0.006598054 |\n",
      "| clipfrac           | 0.109375    |\n",
      "| explained_variance | 0.874       |\n",
      "| fps                | 727         |\n",
      "| n_updates          | 3000        |\n",
      "| policy_entropy     | 20.837326   |\n",
      "| policy_loss        | -0.01856032 |\n",
      "| serial_timesteps   | 384000      |\n",
      "| time_elapsed       | 590         |\n",
      "| total_timesteps    | 384000      |\n",
      "| value_loss         | 0.19874567  |\n",
      "------------------------------------\n",
      "------------------------------------\n",
      "| approxkl           | 0.002474167 |\n",
      "| clipfrac           | 0.0234375   |\n",
      "| explained_variance | 0.821       |\n",
      "| fps                | 612         |\n",
      "| n_updates          | 3500        |\n",
      "| policy_entropy     | 21.560318   |\n",
      "| policy_loss        | -0.01822483 |\n",
      "| serial_timesteps   | 448000      |\n",
      "| time_elapsed       | 684         |\n",
      "| total_timesteps    | 448000      |\n",
      "| value_loss         | 1.2775623   |\n",
      "------------------------------------\n"
     ]
    },
    {
     "data": {
      "text/html": [
       "<br/>Waiting for W&B process to finish, PID 777<br/>Program ended successfully."
      ],
      "text/plain": [
       "<IPython.core.display.HTML object>"
      ]
     },
     "metadata": {},
     "output_type": "display_data"
    },
    {
     "data": {
      "text/html": [
       "Find user logs for this run at: <code>/sources/learning_experiments/experiments/notebooks/wandb/run-20210120_164953-3dd8ljjl/logs/debug.log</code>"
      ],
      "text/plain": [
       "<IPython.core.display.HTML object>"
      ]
     },
     "metadata": {},
     "output_type": "display_data"
    },
    {
     "data": {
      "text/html": [
       "Find internal logs for this run at: <code>/sources/learning_experiments/experiments/notebooks/wandb/run-20210120_164953-3dd8ljjl/logs/debug-internal.log</code>"
      ],
      "text/plain": [
       "<IPython.core.display.HTML object>"
      ]
     },
     "metadata": {},
     "output_type": "display_data"
    },
    {
     "data": {
      "text/html": [
       "<h3>Run summary:</h3><br/><style>\n",
       "    table.wandb td:nth-child(1) { padding: 0 10px; text-align: right }\n",
       "    </style><table class=\"wandb\">\n",
       "<tr><td>global_step</td><td>500088</td></tr><tr><td>_timestamp</td><td>1611162155.99661</td></tr><tr><td>loss/entropy_loss</td><td>22.13864</td></tr><tr><td>loss/policy_gradient_loss</td><td>-0.01128</td></tr><tr><td>loss/value_function_loss</td><td>7.52694</td></tr><tr><td>loss/approximate_kullback-leibler</td><td>0.00873</td></tr><tr><td>loss/clip_factor</td><td>0.09375</td></tr><tr><td>loss/loss</td><td>3.5308</td></tr><tr><td>input_info/discounted_rewards</td><td>46.11958</td></tr><tr><td>input_info/learning_rate</td><td>0.00025</td></tr><tr><td>input_info/advantage</td><td>0.0</td></tr><tr><td>input_info/clip_range</td><td>0.2</td></tr><tr><td>input_info/clip_range_vf</td><td>0.2</td></tr><tr><td>input_info/old_neglog_action_probability</td><td>22.44969</td></tr><tr><td>input_info/old_value_pred</td><td>45.43156</td></tr><tr><td>_step</td><td>62498</td></tr><tr><td>episode_reward</td><td>6392.24072</td></tr></table>"
      ],
      "text/plain": [
       "<IPython.core.display.HTML object>"
      ]
     },
     "metadata": {},
     "output_type": "display_data"
    },
    {
     "data": {
      "text/html": [
       "<h3>Run history:</h3><br/><style>\n",
       "    table.wandb td:nth-child(1) { padding: 0 10px; text-align: right }\n",
       "    </style><table class=\"wandb\">\n",
       "<tr><td>global_step</td><td>▁▁▁▂▂▂▂▂▂▃▃▃▃▃▃▄▄▄▄▄▅▅▅▅▅▅▆▆▆▆▆▇▇▇▇▇▇███</td></tr><tr><td>_timestamp</td><td>▁▂▂▂▂▂▂▃▃▃▃▃▃▃▅▅▅▅▅▅▆▆▆▆▆▆▆▇▇▇▇▇▇▇██████</td></tr><tr><td>loss/entropy_loss</td><td>▁▁▁▂▂▂▂▂▂▃▃▃▃▃▄▄▄▄▄▅▅▅▅▅▅▅▅▆▆▆▆▆▇▇▇▇▇███</td></tr><tr><td>loss/policy_gradient_loss</td><td>▇▇▆▄▄▅▅▅▇▃▄▃▆▃▄▂▅▆▁▅█▆▆▆▃▃▅▆▂▇▃▆▄▃▅▆▂▃▅▆</td></tr><tr><td>loss/value_function_loss</td><td>▅▂▁▁▁▁▁▇▁▁▁█▁▁▁▁▁▁▁▁▇▂▁▁▁▂▁▁▂▁▂▁▁▁▂▂▁▂▁▁</td></tr><tr><td>loss/approximate_kullback-leibler</td><td>▁▁▃▃▅▅▅▃▂█▄▃▂▅▃▆▆▅▅▃▃▁▅▅▆▄▂▄▅▂▃▄▅▃▄▁▅▅▅▅</td></tr><tr><td>loss/clip_factor</td><td>▁▁▄▃▇▇▅▃▂▇▅▃▃▇▅█▇▆▇▅▅▁▇▇█▅▃▅▇▂▃▅▆▃▆▁▅▅▅▅</td></tr><tr><td>loss/loss</td><td>▅▂▁▁▁▁▁▇▁▁▁█▁▁▁▁▁▁▁▁▇▂▁▁▁▂▁▁▂▁▂▁▁▁▂▂▁▂▁▁</td></tr><tr><td>input_info/discounted_rewards</td><td>▄▅▇▇▅▅▅▅▆▅▅▁▆▄▅▆▇▇▄▆▂▇█▇▅▆▇▅▅▇█▆▆▅▇▆▅▆▆▅</td></tr><tr><td>input_info/learning_rate</td><td>▁▁▁▁▁▁▁▁▁▁▁▁▁▁▁▁▁▁▁▁▁▁▁▁▁▁▁▁▁▁▁▁▁▁▁▁▁▁▁▁</td></tr><tr><td>input_info/advantage</td><td>█▃▃▃▃▃▃▃▃▃▃▄▃▃▇▃▃▃▃▃▇▂▃▃▃▄▃▁▃▃▂▃▃▃▄▅▃▃▁▃</td></tr><tr><td>input_info/clip_range</td><td>▁▁▁▁▁▁▁▁▁▁▁▁▁▁▁▁▁▁▁▁▁▁▁▁▁▁▁▁▁▁▁▁▁▁▁▁▁▁▁▁</td></tr><tr><td>input_info/clip_range_vf</td><td>▁▁▁▁▁▁▁▁▁▁▁▁▁▁▁▁▁▁▁▁▁▁▁▁▁▁▁▁▁▁▁▁▁▁▁▁▁▁▁▁</td></tr><tr><td>input_info/old_neglog_action_probability</td><td>▁▁▂▂▂▂▃▃▃▃▃▃▄▃▄▅▄▃▅▆▅▆▆▅▆▅▆▅▆▆▇▇█▇▇▆████</td></tr><tr><td>input_info/old_value_pred</td><td>▃▆▇▇▆▅▅▆▆▅▆▁▇▅▅▇▇▇▄▆▂▇█▇▅▆▇▅▆▇█▆▆▆▇▇▆▆▆▅</td></tr><tr><td>_step</td><td>▁▁▁▂▂▂▂▂▂▃▃▃▃▃▃▄▄▄▄▄▅▅▅▅▅▅▆▆▆▆▆▇▇▇▇▇▇███</td></tr><tr><td>episode_reward</td><td>██▇▇▅▃▃▃▄▃▃▆▂▂▃▄▆▇▁▂▆▇█▇▇▃▄▄▃▆▆▆▄▅▄▆█▆▇█</td></tr></table><br/>"
      ],
      "text/plain": [
       "<IPython.core.display.HTML object>"
      ]
     },
     "metadata": {},
     "output_type": "display_data"
    },
    {
     "data": {
      "text/html": [
       "Synced 5 W&B file(s), 0 media file(s), 0 artifact file(s) and 3 other file(s)"
      ],
      "text/plain": [
       "<IPython.core.display.HTML object>"
      ]
     },
     "metadata": {},
     "output_type": "display_data"
    },
    {
     "data": {
      "text/html": [
       "\n",
       "                    <br/>Synced <strong style=\"color:#cdcd00\">dauntless-dew-60</strong>: <a href=\"https://wandb.ai/wpi-mmr/solo-rl-experiments/runs/3dd8ljjl\" target=\"_blank\">https://wandb.ai/wpi-mmr/solo-rl-experiments/runs/3dd8ljjl</a><br/>\n",
       "                "
      ],
      "text/plain": [
       "<IPython.core.display.HTML object>"
      ]
     },
     "metadata": {},
     "output_type": "display_data"
    }
   ],
   "source": [
    "model, config, run = auto_trainer.train(env, config, TAGS, log_freq=500, \n",
    "                                        full_logging=False, run=run)"
   ]
  }
 ],
 "metadata": {
  "jupytext": {
   "text_representation": {
    "extension": ".py",
    "format_name": "percent",
    "format_version": "1.3",
    "jupytext_version": "1.9.1"
   }
  },
  "kernelspec": {
   "display_name": "Python 3",
   "language": "python",
   "name": "python3"
  },
  "language_info": {
   "codemirror_mode": {
    "name": "ipython",
    "version": 3
   },
   "file_extension": ".py",
   "mimetype": "text/x-python",
   "name": "python",
   "nbconvert_exporter": "python",
   "pygments_lexer": "ipython3",
   "version": "3.7.5"
  }
 },
 "nbformat": 4,
 "nbformat_minor": 4
}
