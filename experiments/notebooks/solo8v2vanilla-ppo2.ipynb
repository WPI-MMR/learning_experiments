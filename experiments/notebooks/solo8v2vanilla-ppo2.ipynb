{
 "cells": [
  {
   "cell_type": "markdown",
   "metadata": {},
   "source": [
    "# PPO2 on Solo8 v2 Vanilla w/ Fixed Timestamp\n",
    "Only use the time-based stopping criteria. This is more of a rudamentary test more than anything."
   ]
  },
  {
   "cell_type": "markdown",
   "metadata": {},
   "source": [
    "## Define Experiment Tags"
   ]
  },
  {
   "cell_type": "code",
   "execution_count": 1,
   "metadata": {},
   "outputs": [],
   "source": [
    "TAGS = ['solov2vanilla', 'gpu']"
   ]
  },
  {
   "cell_type": "markdown",
   "metadata": {},
   "source": [
    "## Get Solo Environment Configuration"
   ]
  },
  {
   "cell_type": "markdown",
   "metadata": {},
   "source": [
    "Import the relevant libraries + rewards & observations"
   ]
  },
  {
   "cell_type": "code",
   "execution_count": 2,
   "metadata": {},
   "outputs": [],
   "source": [
    "from gym_solo.envs import solo8v2vanilla\n",
    "from gym_solo.core import obs\n",
    "from gym_solo.core import rewards\n",
    "from gym_solo.core import termination as terms\n",
    "\n",
    "import gym\n",
    "import gym_solo"
   ]
  },
  {
   "cell_type": "markdown",
   "metadata": {},
   "source": [
    "Create the config for the enviornment"
   ]
  },
  {
   "cell_type": "code",
   "execution_count": 3,
   "metadata": {},
   "outputs": [],
   "source": [
    "env_config = solo8v2vanilla.Solo8VanillaConfig()"
   ]
  },
  {
   "cell_type": "markdown",
   "metadata": {},
   "source": [
    "## Parse CLI arguments and register w/ wandb"
   ]
  },
  {
   "cell_type": "markdown",
   "metadata": {},
   "source": [
    "This experiment will be using the auto trainer to handle all of the hyperparmeter running"
   ]
  },
  {
   "cell_type": "code",
   "execution_count": 4,
   "metadata": {},
   "outputs": [
    {
     "name": "stdout",
     "output_type": "stream",
     "text": [
      "WARNING:tensorflow:\n",
      "The TensorFlow contrib module will not be included in TensorFlow 2.0.\n",
      "For more information, please see:\n",
      "  * https://github.com/tensorflow/community/blob/master/rfcs/20180907-contrib-sunset.md\n",
      "  * https://github.com/tensorflow/addons\n",
      "  * https://github.com/tensorflow/io (for I/O related ops)\n",
      "If you depend on functionality not listed there, please file an issue.\n",
      "\n"
     ]
    }
   ],
   "source": [
    "from auto_trainer import params\n",
    "import auto_trainer"
   ]
  },
  {
   "cell_type": "markdown",
   "metadata": {},
   "source": [
    "Create a basic config. Give the robot a total of 60 seconds simulation time to learn how to stand."
   ]
  },
  {
   "cell_type": "code",
   "execution_count": 5,
   "metadata": {},
   "outputs": [
    {
     "name": "stderr",
     "output_type": "stream",
     "text": [
      "\u001b[34m\u001b[1mwandb\u001b[0m: Currently logged in as: \u001b[33magupta231\u001b[0m (use `wandb login --relogin` to force relogin)\n",
      "\u001b[34m\u001b[1mwandb\u001b[0m: wandb version 0.10.12 is available!  To upgrade, please run:\n",
      "\u001b[34m\u001b[1mwandb\u001b[0m:  $ pip install wandb --upgrade\n"
     ]
    },
    {
     "data": {
      "text/html": [
       "\n",
       "                Tracking run with wandb version 0.10.10<br/>\n",
       "                Syncing run <strong style=\"color:#cdcd00\">warm-mountain-46</strong> to <a href=\"https://wandb.ai\" target=\"_blank\">Weights & Biases</a> <a href=\"https://docs.wandb.com/integrations/jupyter.html\" target=\"_blank\">(Documentation)</a>.<br/>\n",
       "                Project page: <a href=\"https://wandb.ai/wpi-mmr/solo-rl-experiments\" target=\"_blank\">https://wandb.ai/wpi-mmr/solo-rl-experiments</a><br/>\n",
       "                Run page: <a href=\"https://wandb.ai/wpi-mmr/solo-rl-experiments/runs/1gkaoocw\" target=\"_blank\">https://wandb.ai/wpi-mmr/solo-rl-experiments/runs/1gkaoocw</a><br/>\n",
       "                Run data is saved locally in <code>/home/agupta/Documents/education/wpi/senior/mqp/learning_experiments/experiments/notebooks/wandb/run-20201213_110752-1gkaoocw</code><br/><br/>\n",
       "            "
      ],
      "text/plain": [
       "<IPython.core.display.HTML object>"
      ]
     },
     "metadata": {},
     "output_type": "display_data"
    },
    {
     "data": {
      "text/plain": [
       "{'episodes': 50000, 'episode_length': 60000.0, 'policy': 'MlpPolicy', 'algorithm': 'PPO2'}"
      ]
     },
     "execution_count": 5,
     "metadata": {},
     "output_type": "execute_result"
    }
   ],
   "source": [
    "config = params.BaseParameters().parse()\n",
    "\n",
    "config.episodes = 50000\n",
    "config.episode_length = 60 / env_config.dt\n",
    "\n",
    "config, run = auto_trainer.get_synced_config(config, TAGS)\n",
    "config"
   ]
  },
  {
   "cell_type": "markdown",
   "metadata": {},
   "source": [
    "## Setup Environment\n",
    "Add the following inputs to the robot / environment:\n",
    "\n",
    "**Observations**\n",
    "- TorsoIMU\n",
    "- Motor encoder current values\n",
    "\n",
    "**Reward**\n",
    "- How upright the TorsoIMU is. Valued in $[-1, 1]$\n",
    "\n",
    "**Termination Criteria**\n",
    "- Terminate after $n$ timesteps"
   ]
  },
  {
   "cell_type": "code",
   "execution_count": 6,
   "metadata": {},
   "outputs": [
    {
     "name": "stderr",
     "output_type": "stream",
     "text": [
      "/home/agupta/Documents/education/wpi/senior/mqp/venv-solo/lib/python3.7/site-packages/gym/logger.py:30: UserWarning: \u001b[33mWARN: Box bound precision lowered by casting to float32\u001b[0m\n",
      "  warnings.warn(colorize('%s: %s'%('WARN', msg % args), 'yellow'))\n"
     ]
    }
   ],
   "source": [
    "env = gym.make('solo8vanilla-v0', config=env_config)\n",
    "\n",
    "env.obs_factory.register_observation(obs.TorsoIMU(env.robot))\n",
    "env.obs_factory.register_observation(obs.MotorEncoder(env.robot))\n",
    "\n",
    "env.reward_factory.register_reward(1, rewards.UprightReward(env.robot))\n",
    "\n",
    "env.termination_factory.register_termination(terms.TimeBasedTermination(config.episode_length))"
   ]
  },
  {
   "cell_type": "markdown",
   "metadata": {},
   "source": [
    "## Learning"
   ]
  },
  {
   "cell_type": "code",
   "execution_count": 7,
   "metadata": {
    "scrolled": true
   },
   "outputs": [
    {
     "name": "stdout",
     "output_type": "stream",
     "text": [
      "Wrapping the env in a DummyVecEnv.\n",
      "WARNING:tensorflow:From /home/agupta/Documents/education/wpi/senior/mqp/venv-solo/lib/python3.7/site-packages/stable_baselines/common/tf_util.py:191: The name tf.ConfigProto is deprecated. Please use tf.compat.v1.ConfigProto instead.\n",
      "\n",
      "WARNING:tensorflow:From /home/agupta/Documents/education/wpi/senior/mqp/venv-solo/lib/python3.7/site-packages/stable_baselines/common/tf_util.py:200: The name tf.Session is deprecated. Please use tf.compat.v1.Session instead.\n",
      "\n",
      "WARNING:tensorflow:From /home/agupta/Documents/education/wpi/senior/mqp/venv-solo/lib/python3.7/site-packages/stable_baselines/common/policies.py:116: The name tf.variable_scope is deprecated. Please use tf.compat.v1.variable_scope instead.\n",
      "\n",
      "WARNING:tensorflow:From /home/agupta/Documents/education/wpi/senior/mqp/venv-solo/lib/python3.7/site-packages/stable_baselines/common/input.py:25: The name tf.placeholder is deprecated. Please use tf.compat.v1.placeholder instead.\n",
      "\n",
      "WARNING:tensorflow:From /home/agupta/Documents/education/wpi/senior/mqp/venv-solo/lib/python3.7/site-packages/stable_baselines/common/policies.py:561: flatten (from tensorflow.python.layers.core) is deprecated and will be removed in a future version.\n",
      "Instructions for updating:\n",
      "Use keras.layers.flatten instead.\n",
      "WARNING:tensorflow:From /home/agupta/Documents/education/wpi/senior/mqp/venv-solo/lib/python3.7/site-packages/tensorflow_core/python/layers/core.py:332: Layer.apply (from tensorflow.python.keras.engine.base_layer) is deprecated and will be removed in a future version.\n",
      "Instructions for updating:\n",
      "Please use `layer.__call__` method instead.\n",
      "WARNING:tensorflow:From /home/agupta/Documents/education/wpi/senior/mqp/venv-solo/lib/python3.7/site-packages/stable_baselines/common/tf_layers.py:123: The name tf.get_variable is deprecated. Please use tf.compat.v1.get_variable instead.\n",
      "\n",
      "WARNING:tensorflow:From /home/agupta/Documents/education/wpi/senior/mqp/venv-solo/lib/python3.7/site-packages/stable_baselines/common/distributions.py:418: The name tf.random_normal is deprecated. Please use tf.random.normal instead.\n",
      "\n",
      "WARNING:tensorflow:From /home/agupta/Documents/education/wpi/senior/mqp/venv-solo/lib/python3.7/site-packages/stable_baselines/ppo2/ppo2.py:190: The name tf.summary.scalar is deprecated. Please use tf.compat.v1.summary.scalar instead.\n",
      "\n",
      "WARNING:tensorflow:From /home/agupta/Documents/education/wpi/senior/mqp/venv-solo/lib/python3.7/site-packages/stable_baselines/ppo2/ppo2.py:198: The name tf.trainable_variables is deprecated. Please use tf.compat.v1.trainable_variables instead.\n",
      "\n",
      "WARNING:tensorflow:From /home/agupta/Documents/education/wpi/senior/mqp/venv-solo/lib/python3.7/site-packages/tensorflow_core/python/ops/math_grad.py:1424: where (from tensorflow.python.ops.array_ops) is deprecated and will be removed in a future version.\n",
      "Instructions for updating:\n",
      "Use tf.where in 2.0, which has the same broadcast rule as np.where\n",
      "WARNING:tensorflow:From /home/agupta/Documents/education/wpi/senior/mqp/venv-solo/lib/python3.7/site-packages/stable_baselines/ppo2/ppo2.py:206: The name tf.train.AdamOptimizer is deprecated. Please use tf.compat.v1.train.AdamOptimizer instead.\n",
      "\n",
      "WARNING:tensorflow:From /home/agupta/Documents/education/wpi/senior/mqp/venv-solo/lib/python3.7/site-packages/stable_baselines/ppo2/ppo2.py:240: The name tf.global_variables_initializer is deprecated. Please use tf.compat.v1.global_variables_initializer instead.\n",
      "\n",
      "WARNING:tensorflow:From /home/agupta/Documents/education/wpi/senior/mqp/venv-solo/lib/python3.7/site-packages/stable_baselines/ppo2/ppo2.py:242: The name tf.summary.merge_all is deprecated. Please use tf.compat.v1.summary.merge_all instead.\n",
      "\n",
      "WARNING:tensorflow:From /home/agupta/Documents/education/wpi/senior/mqp/venv-solo/lib/python3.7/site-packages/stable_baselines/common/base_class.py:1169: The name tf.summary.FileWriter is deprecated. Please use tf.compat.v1.summary.FileWriter instead.\n",
      "\n",
      "------------------------------------\n",
      "| approxkl           | 0.008098352 |\n",
      "| clipfrac           | 0.11328125  |\n",
      "| explained_variance | -0.482      |\n",
      "| fps                | 58          |\n",
      "| n_updates          | 1           |\n",
      "| policy_entropy     | 17.03219    |\n",
      "| policy_loss        | -0.02446253 |\n",
      "| serial_timesteps   | 128         |\n",
      "| time_elapsed       | 2.07e-05    |\n",
      "| total_timesteps    | 128         |\n",
      "| value_loss         | 0.002995892 |\n",
      "------------------------------------\n"
     ]
    },
    {
     "data": {
      "text/html": [
       "<br/>Waiting for W&B process to finish, PID 20822<br/>Program ended successfully."
      ],
      "text/plain": [
       "<IPython.core.display.HTML object>"
      ]
     },
     "metadata": {},
     "output_type": "display_data"
    },
    {
     "data": {
      "application/vnd.jupyter.widget-view+json": {
       "model_id": "",
       "version_major": 2,
       "version_minor": 0
      },
      "text/plain": [
       "VBox(children=(Label(value=' 1.97MB of 6.15MB uploaded (0.00MB deduped)\\r'), FloatProgress(value=0.32044030368…"
      ]
     },
     "metadata": {},
     "output_type": "display_data"
    },
    {
     "data": {
      "text/html": [
       "Find user logs for this run at: <code>/home/agupta/Documents/education/wpi/senior/mqp/learning_experiments/experiments/notebooks/wandb/run-20201213_110752-1gkaoocw/logs/debug.log</code>"
      ],
      "text/plain": [
       "<IPython.core.display.HTML object>"
      ]
     },
     "metadata": {},
     "output_type": "display_data"
    },
    {
     "data": {
      "text/html": [
       "Find internal logs for this run at: <code>/home/agupta/Documents/education/wpi/senior/mqp/learning_experiments/experiments/notebooks/wandb/run-20201213_110752-1gkaoocw/logs/debug-internal.log</code>"
      ],
      "text/plain": [
       "<IPython.core.display.HTML object>"
      ]
     },
     "metadata": {},
     "output_type": "display_data"
    },
    {
     "data": {
      "text/html": [
       "<h3>Run summary:</h3><br/><style>\n",
       "    table.wandb td:nth-child(1) { padding: 0 10px; text-align: right }\n",
       "    </style><table class=\"wandb\">\n",
       "<tr><td>global_step</td><td>50040</td></tr><tr><td>_timestamp</td><td>1607875722.53292</td></tr><tr><td>loss/entropy_loss</td><td>17.57503</td></tr><tr><td>loss/policy_gradient_loss</td><td>-0.0218</td></tr><tr><td>loss/value_function_loss</td><td>0.00105</td></tr><tr><td>loss/approximate_kullback-leibler</td><td>0.02471</td></tr><tr><td>loss/clip_factor</td><td>0.40625</td></tr><tr><td>loss/loss</td><td>-0.19703</td></tr><tr><td>input_info/discounted_rewards</td><td>0.71642</td></tr><tr><td>input_info/learning_rate</td><td>0.00025</td></tr><tr><td>input_info/advantage</td><td>-0.0</td></tr><tr><td>input_info/clip_range</td><td>0.2</td></tr><tr><td>input_info/clip_range_vf</td><td>0.2</td></tr><tr><td>input_info/old_neglog_action_probability</td><td>17.98802</td></tr><tr><td>input_info/old_value_pred</td><td>0.80376</td></tr><tr><td>_step</td><td>6239</td></tr></table>"
      ],
      "text/plain": [
       "<IPython.core.display.HTML object>"
      ]
     },
     "metadata": {},
     "output_type": "display_data"
    },
    {
     "data": {
      "text/html": [
       "<h3>Run history:</h3><br/><style>\n",
       "    table.wandb td:nth-child(1) { padding: 0 10px; text-align: right }\n",
       "    </style><table class=\"wandb\">\n",
       "<tr><td>global_step</td><td>▁▁▁▂▂▂▂▂▂▃▃▃▃▃▃▄▄▄▄▄▅▅▅▅▅▅▆▆▆▆▆▇▇▇▇▇▇███</td></tr><tr><td>_timestamp</td><td>▁▁▁▁▁▁▁▁▁▁▁▁▁▁▁▁▁▁▁▁▁▁▁▁▁▁▁▁▁▁▁▁▁▁▁▁▁▁▁▁</td></tr><tr><td>loss/entropy_loss</td><td>▁▁▁▁▁▂▂▂▂▂▃▃▃▃▄▄▅▅▅▆▆▆▆▆▆▇▇▇▇▇▇██████▇██</td></tr><tr><td>loss/policy_gradient_loss</td><td>▅▅▂▃▁▅▂▆▄▃▃▅▆▆▂▂▆▆▇▃▆▃▂▄▃▅▂▆▁▅▅▅▆▆█▃▇▅▂▆</td></tr><tr><td>loss/value_function_loss</td><td>▁▁▁▁▁▁▁▁▁▁▁▁▁▁▁▁█▇▄▃▁▁▁▁▁▁▁▁▁▁▁▁▁▁▁▁▁▁▁▁</td></tr><tr><td>loss/approximate_kullback-leibler</td><td>▄▁▃▄▅▂▅▂▃▃█▃▂▃▆▄▂▃▁▄▃▃▃▅▇▂▆█▃▃▂▄▃▁▄▄▄█▇▃</td></tr><tr><td>loss/clip_factor</td><td>▃▁▃▄▆▃▃▂▄▄█▂▂▅▄▅▃▄▁▄▄▄▅▆▇▁▅▇▅▃▁▆▄▁▅▅▄█▇▃</td></tr><tr><td>loss/loss</td><td>▂▂▁▁▁▂▁▂▂▁▁▂▂▂▁▁█▇▅▃▂▁▁▂▁▂▁▂▁▂▂▂▂▂▂▁▂▂▁▂</td></tr><tr><td>input_info/discounted_rewards</td><td>▁▂▁▁▁▂▂▁▁▂▂▃▂▂▂▃▆██▆▃▂▄▂▂▂▂▂▂▂▂▂▂▂▂▃▂▂▂▂</td></tr><tr><td>input_info/learning_rate</td><td>▁▁▁▁▁▁▁▁▁▁▁▁▁▁▁▁▁▁▁▁▁▁▁▁▁▁▁▁▁▁▁▁▁▁▁▁▁▁▁▁</td></tr><tr><td>input_info/advantage</td><td>▅▅▅▄▅▅▄▆▄▄▃▅▅█▄▆▆▅▁▃▅▄▅▃▅▄▄▄▄▄▅▅▄▄▄▅▃▄▄▅</td></tr><tr><td>input_info/clip_range</td><td>▁▁▁▁▁▁▁▁▁▁▁▁▁▁▁▁▁▁▁▁▁▁▁▁▁▁▁▁▁▁▁▁▁▁▁▁▁▁▁▁</td></tr><tr><td>input_info/clip_range_vf</td><td>▁▁▁▁▁▁▁▁▁▁▁▁▁▁▁▁▁▁▁▁▁▁▁▁▁▁▁▁▁▁▁▁▁▁▁▁▁▁▁▁</td></tr><tr><td>input_info/old_neglog_action_probability</td><td>▁▅▃▃▁▃▄▂▂▄▆▄▃▄▂▄▄▂▅▄▃▄▃▃▆▇▄▂▇█▄▄▇▅▅▄▆▆█▅</td></tr><tr><td>input_info/old_value_pred</td><td>▂▂▁▁▁▂▂▁▁▂▂▃▂▂▂▂▅▇█▆▃▂▃▂▂▂▂▂▂▂▂▂▂▂▂▂▂▂▂▂</td></tr><tr><td>_step</td><td>▁▁▁▂▂▂▂▂▂▃▃▃▃▃▃▄▄▄▄▄▅▅▅▅▅▅▆▆▆▆▆▇▇▇▇▇▇███</td></tr></table><br/>"
      ],
      "text/plain": [
       "<IPython.core.display.HTML object>"
      ]
     },
     "metadata": {},
     "output_type": "display_data"
    },
    {
     "data": {
      "text/html": [
       "Synced 5 W&B file(s), 0 media file(s), 0 artifact file(s) and 3 other file(s)"
      ],
      "text/plain": [
       "<IPython.core.display.HTML object>"
      ]
     },
     "metadata": {},
     "output_type": "display_data"
    },
    {
     "data": {
      "text/html": [
       "\n",
       "                    <br/>Synced <strong style=\"color:#cdcd00\">warm-mountain-46</strong>: <a href=\"https://wandb.ai/wpi-mmr/solo-rl-experiments/runs/1gkaoocw\" target=\"_blank\">https://wandb.ai/wpi-mmr/solo-rl-experiments/runs/1gkaoocw</a><br/>\n",
       "                "
      ],
      "text/plain": [
       "<IPython.core.display.HTML object>"
      ]
     },
     "metadata": {},
     "output_type": "display_data"
    }
   ],
   "source": [
    "model, config, run = auto_trainer.train(env, config, TAGS, log_freq=500, \n",
    "                                        full_logging=False, run=run)"
   ]
  },
  {
   "cell_type": "code",
   "execution_count": 8,
   "metadata": {},
   "outputs": [
    {
     "name": "stdout",
     "output_type": "stream",
     "text": [
      "                                                           types |   # objects |   total size\n",
      "================================================================ | =========== | ============\n",
      "                                                             str |      177663 |     34.14 MB\n",
      "                                                            dict |       75459 |     27.19 MB\n",
      "                                                            code |       62739 |      8.67 MB\n",
      "                                                            type |        7759 |      7.25 MB\n",
      "                                                           tuple |       63847 |      4.95 MB\n",
      "                                                            list |       16510 |      1.84 MB\n",
      "                                                             set |        3224 |      1.40 MB\n",
      "                                                         weakref |       11942 |      1.00 MB\n",
      "                                                            cell |       18070 |    988.20 KB\n",
      "                                                     abc.ABCMeta |         849 |    878.84 KB\n",
      "                                             function (__init__) |        4667 |    656.30 KB\n",
      "  google.protobuf.pyext.cpp_message.GeneratedProtocolMessageType |         650 |    568.75 KB\n",
      "                                               getset_descriptor |        6918 |    540.47 KB\n",
      "                                                        property |        6129 |    526.71 KB\n",
      "                                      builtin_function_or_method |        6453 |    504.14 KB\n"
     ]
    }
   ],
   "source": [
    "import pandas\n",
    "from pympler import muppy, summary\n",
    "all_objects = muppy.get_objects()\n",
    "sum1 = summary.summarize(all_objects)\n",
    "# Prints out a summary of the large objects\n",
    "summary.print_(sum1)"
   ]
  }
 ],
 "metadata": {
  "jupytext": {
   "text_representation": {
    "extension": ".py",
    "format_name": "percent",
    "format_version": "1.3",
    "jupytext_version": "1.9.1"
   }
  },
  "kernelspec": {
   "display_name": "Python 3",
   "language": "python",
   "name": "python3"
  },
  "language_info": {
   "codemirror_mode": {
    "name": "ipython",
    "version": 3
   },
   "file_extension": ".py",
   "mimetype": "text/x-python",
   "name": "python",
   "nbconvert_exporter": "python",
   "pygments_lexer": "ipython3",
   "version": "3.7.5"
  }
 },
 "nbformat": 4,
 "nbformat_minor": 4
}
