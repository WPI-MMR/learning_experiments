{
 "cells": [
  {
   "cell_type": "markdown",
   "metadata": {},
   "source": [
    "# PPO2 on Solo8 v2 Vanilla w/ Fixed Timestamp\n",
    "Only use the time-based stopping criteria. This is more of a rudamentary test more than anything."
   ]
  },
  {
   "cell_type": "markdown",
   "metadata": {},
   "source": [
    "## Ensure that Tensorflow is using the GPU"
   ]
  },
  {
   "cell_type": "code",
   "execution_count": 1,
   "metadata": {},
   "outputs": [
    {
     "name": "stdout",
     "output_type": "stream",
     "text": [
      "Default GPU Device: /device:GPU:0\n"
     ]
    }
   ],
   "source": [
    "import tensorflow as tf\n",
    "if tf.test.gpu_device_name():\n",
    "    print('Default GPU Device: {}'.format(tf.test.gpu_device_name()))\n",
    "else:\n",
    "    print(\"Please install GPU version of TF\")"
   ]
  },
  {
   "cell_type": "markdown",
   "metadata": {},
   "source": [
    "## Define Experiment Tags"
   ]
  },
  {
   "cell_type": "code",
   "execution_count": 2,
   "metadata": {},
   "outputs": [],
   "source": [
    "TAGS = ['solov2vanilla', 'gpu', 'home_pos_task', \n",
    "        'unnormalized_actions']"
   ]
  },
  {
   "cell_type": "markdown",
   "metadata": {},
   "source": [
    "# Import required libraries"
   ]
  },
  {
   "cell_type": "code",
   "execution_count": 3,
   "metadata": {},
   "outputs": [
    {
     "name": "stderr",
     "output_type": "stream",
     "text": [
      "/usr/local/lib/python3.7/dist-packages/gym/logger.py:30: UserWarning: \u001b[33mWARN: Box bound precision lowered by casting to float32\u001b[0m\n",
      "  warnings.warn(colorize('%s: %s'%('WARN', msg % args), 'yellow'))\n"
     ]
    }
   ],
   "source": [
    "from gym_solo.envs import solo8v2vanilla\n",
    "from gym_solo.core import obs\n",
    "from gym_solo.core import rewards\n",
    "from gym_solo.core import termination as terms\n",
    "\n",
    "import gym\n",
    "import gym_solo"
   ]
  },
  {
   "cell_type": "markdown",
   "metadata": {},
   "source": [
    "## Parse CLI arguments and register w/ wandb"
   ]
  },
  {
   "cell_type": "markdown",
   "metadata": {},
   "source": [
    "This experiment will be using the auto trainer to handle all of the hyperparmeter running"
   ]
  },
  {
   "cell_type": "code",
   "execution_count": 4,
   "metadata": {},
   "outputs": [
    {
     "name": "stdout",
     "output_type": "stream",
     "text": [
      "WARNING:tensorflow:\n",
      "The TensorFlow contrib module will not be included in TensorFlow 2.0.\n",
      "For more information, please see:\n",
      "  * https://github.com/tensorflow/community/blob/master/rfcs/20180907-contrib-sunset.md\n",
      "  * https://github.com/tensorflow/addons\n",
      "  * https://github.com/tensorflow/io (for I/O related ops)\n",
      "If you depend on functionality not listed there, please file an issue.\n",
      "\n"
     ]
    }
   ],
   "source": [
    "from auto_trainer import params\n",
    "import auto_trainer"
   ]
  },
  {
   "cell_type": "markdown",
   "metadata": {},
   "source": [
    "Give the robot a total of 10 seconds simulation time to learn how to stand."
   ]
  },
  {
   "cell_type": "code",
   "execution_count": 5,
   "metadata": {},
   "outputs": [
    {
     "data": {
      "text/plain": [
       "2000.0"
      ]
     },
     "execution_count": 5,
     "metadata": {},
     "output_type": "execute_result"
    }
   ],
   "source": [
    "episode_length = 2 / solo8v2vanilla.Solo8VanillaConfig.dt\n",
    "episode_length"
   ]
  },
  {
   "cell_type": "markdown",
   "metadata": {},
   "source": [
    "Create a basic config"
   ]
  },
  {
   "cell_type": "code",
   "execution_count": 6,
   "metadata": {},
   "outputs": [
    {
     "data": {
      "text/plain": [
       "Namespace(algorithm='PPO2', episode_length=2000.0, episodes=800, eval_episodes=3, eval_frequency=10, eval_render_freq=44, fps=15, num_workers=6, policy='MlpPolicy')"
      ]
     },
     "execution_count": 6,
     "metadata": {},
     "output_type": "execute_result"
    }
   ],
   "source": [
    "config = params.WandbParameters().parse()\n",
    "\n",
    "config.episodes = 800\n",
    "config.episode_length = episode_length\n",
    "\n",
    "config.num_workers = 6\n",
    "config.eval_frequency = 10\n",
    "config.eval_episodes = 3\n",
    "config.fps = 15\n",
    "\n",
    "# Create a 3 second gif\n",
    "config.eval_render_freq = int(config.episode_length / (3 * config.fps))\n",
    "\n",
    "config"
   ]
  },
  {
   "cell_type": "code",
   "execution_count": 9,
   "metadata": {},
   "outputs": [
    {
     "name": "stderr",
     "output_type": "stream",
     "text": [
      "\u001b[34m\u001b[1mwandb\u001b[0m: You can find your API key in your browser here: https://wandb.ai/authorize\n"
     ]
    },
    {
     "name": "stdin",
     "output_type": "stream",
     "text": [
      "\u001b[34m\u001b[1mwandb\u001b[0m: Paste an API key from your profile and hit enter:  ········································\n"
     ]
    },
    {
     "name": "stderr",
     "output_type": "stream",
     "text": [
      "\u001b[34m\u001b[1mwandb\u001b[0m: Appending key for api.wandb.ai to your netrc file: /root/.netrc\n",
      "/usr/local/lib/python3.7/dist-packages/IPython/html.py:14: ShimWarning: The `IPython.html` package has been deprecated since IPython 4.0. You should import from `notebook` instead. `IPython.html.widgets` has moved to `ipywidgets`.\n",
      "  \"`IPython.html.widgets` has moved to `ipywidgets`.\", ShimWarning)\n",
      "\u001b[34m\u001b[1mwandb\u001b[0m: wandb version 0.10.18 is available!  To upgrade, please run:\n",
      "\u001b[34m\u001b[1mwandb\u001b[0m:  $ pip install wandb --upgrade\n"
     ]
    },
    {
     "data": {
      "text/html": [
       "\n",
       "                Tracking run with wandb version 0.10.17<br/>\n",
       "                Syncing run <strong style=\"color:#cdcd00\">fast-grass-202</strong> to <a href=\"https://wandb.ai\" target=\"_blank\">Weights & Biases</a> <a href=\"https://docs.wandb.com/integrations/jupyter.html\" target=\"_blank\">(Documentation)</a>.<br/>\n",
       "                Project page: <a href=\"https://wandb.ai/wpi-mmr/solo-rl-experiments\" target=\"_blank\">https://wandb.ai/wpi-mmr/solo-rl-experiments</a><br/>\n",
       "                Run page: <a href=\"https://wandb.ai/wpi-mmr/solo-rl-experiments/runs/3qm8pi4f\" target=\"_blank\">https://wandb.ai/wpi-mmr/solo-rl-experiments/runs/3qm8pi4f</a><br/>\n",
       "                Run data is saved locally in <code>/sources/learning_experiments/experiments/notebooks/wandb/run-20210209_094518-3qm8pi4f</code><br/><br/>\n",
       "            "
      ],
      "text/plain": [
       "<IPython.core.display.HTML object>"
      ]
     },
     "metadata": {},
     "output_type": "display_data"
    },
    {
     "data": {
      "text/plain": [
       "{'episodes': 800, 'episode_length': 2000.0, 'policy': 'MlpPolicy', 'algorithm': 'PPO2', 'num_workers': 6, 'eval_episodes': 3, 'eval_frequency': 10, 'eval_render_freq': 44, 'fps': 15}"
      ]
     },
     "execution_count": 9,
     "metadata": {},
     "output_type": "execute_result"
    }
   ],
   "source": [
    "config, run = auto_trainer.get_synced_config(config, TAGS)\n",
    "config"
   ]
  },
  {
   "cell_type": "markdown",
   "metadata": {},
   "source": [
    "Add the following inputs to the robot / environment:\n",
    "\n",
    "**Observations**\n",
    "- TorsoIMU\n",
    "- Motor encoder current values\n",
    "\n",
    "**Reward**\n",
    "- How upright the TorsoIMU is. Valued in $[-1, 1]$\n",
    "\n",
    "**Termination Criteria**\n",
    "- Terminate after $n$ timesteps\n",
    "\n",
    "Note that the autotrainer requires that the training environment be a `VecEnv` and the testing environment be a standard `gym.Env` for multi-processing.\n",
    "\n",
    "For us personally, we find that the easiest way to handle this is to create a Stable Baselines `VecEnv` generator (example can be found [here](https://stable-baselines.readthedocs.io/en/master/guide/examples.html#multiprocessing-unleashing-the-power-of-vectorized-environments)) and use that to generate both the training and testing environments.\n",
    "\n",
    "We also like to link our generator with our W&B config so that we can dynamically change the environments based from the web interface. \n",
    "\n",
    "A full example can be seen below:"
   ]
  },
  {
   "cell_type": "code",
   "execution_count": 10,
   "metadata": {},
   "outputs": [],
   "source": [
    "def make_env(length):\n",
    "    def _init():\n",
    "        env_config = solo8v2vanilla.Solo8VanillaConfig()\n",
    "        env = gym.make('solo8vanilla-v0', config=env_config, \n",
    "                       normalize_actions=False)\n",
    "\n",
    "        env.obs_factory.register_observation(obs.TorsoIMU(env.robot))\n",
    "        env.obs_factory.register_observation(obs.MotorEncoder(env.robot))\n",
    "\n",
    "        # env.reward_factory.register_reward(1, rewards.UprightReward(env.robot))\n",
    "        env.reward_factory.register_reward(1, rewards.HomePositionReward(env.robot))\n",
    "        env.termination_factory.register_termination(terms.TimeBasedTermination(length))\n",
    "        return env\n",
    "    return _init"
   ]
  },
  {
   "cell_type": "markdown",
   "metadata": {},
   "source": [
    "### Create the Envs\n",
    "Import the desired vectorized env"
   ]
  },
  {
   "cell_type": "code",
   "execution_count": 11,
   "metadata": {},
   "outputs": [],
   "source": [
    "from stable_baselines.common.vec_env import SubprocVecEnv\n",
    "from stable_baselines.common.vec_env import VecNormalize"
   ]
  },
  {
   "cell_type": "markdown",
   "metadata": {},
   "source": [
    "Create training & testing environments"
   ]
  },
  {
   "cell_type": "code",
   "execution_count": 12,
   "metadata": {},
   "outputs": [
    {
     "name": "stderr",
     "output_type": "stream",
     "text": [
      "/usr/local/lib/python3.7/dist-packages/gym/logger.py:30: UserWarning: \u001b[33mWARN: Box bound precision lowered by casting to float32\u001b[0m\n",
      "  warnings.warn(colorize('%s: %s'%('WARN', msg % args), 'yellow'))\n"
     ]
    }
   ],
   "source": [
    "train_env = SubprocVecEnv([make_env(config.episode_length) \n",
    "                           for _ in range(config.num_workers)])\n",
    "# train_env = VecNormalize(train_env, clip_reward = 1.)\n",
    "\n",
    "test_env = make_env(config.episode_length)()"
   ]
  },
  {
   "cell_type": "markdown",
   "metadata": {},
   "source": [
    "## Learning\n",
    "And we're off!"
   ]
  },
  {
   "cell_type": "code",
   "execution_count": 13,
   "metadata": {},
   "outputs": [
    {
     "name": "stdout",
     "output_type": "stream",
     "text": [
      "WARNING:tensorflow:From /usr/local/lib/python3.7/dist-packages/stable_baselines/common/tf_util.py:191: The name tf.ConfigProto is deprecated. Please use tf.compat.v1.ConfigProto instead.\n",
      "\n",
      "WARNING:tensorflow:From /usr/local/lib/python3.7/dist-packages/stable_baselines/common/tf_util.py:200: The name tf.Session is deprecated. Please use tf.compat.v1.Session instead.\n",
      "\n",
      "WARNING:tensorflow:From /usr/local/lib/python3.7/dist-packages/stable_baselines/common/policies.py:116: The name tf.variable_scope is deprecated. Please use tf.compat.v1.variable_scope instead.\n",
      "\n",
      "WARNING:tensorflow:From /usr/local/lib/python3.7/dist-packages/stable_baselines/common/input.py:25: The name tf.placeholder is deprecated. Please use tf.compat.v1.placeholder instead.\n",
      "\n",
      "WARNING:tensorflow:From /usr/local/lib/python3.7/dist-packages/stable_baselines/common/policies.py:561: flatten (from tensorflow.python.layers.core) is deprecated and will be removed in a future version.\n",
      "Instructions for updating:\n",
      "Use keras.layers.flatten instead.\n",
      "WARNING:tensorflow:From /usr/local/lib/python3.7/dist-packages/tensorflow_core/python/layers/core.py:332: Layer.apply (from tensorflow.python.keras.engine.base_layer) is deprecated and will be removed in a future version.\n",
      "Instructions for updating:\n",
      "Please use `layer.__call__` method instead.\n",
      "WARNING:tensorflow:From /usr/local/lib/python3.7/dist-packages/stable_baselines/common/tf_layers.py:123: The name tf.get_variable is deprecated. Please use tf.compat.v1.get_variable instead.\n",
      "\n",
      "WARNING:tensorflow:From /usr/local/lib/python3.7/dist-packages/stable_baselines/common/distributions.py:418: The name tf.random_normal is deprecated. Please use tf.random.normal instead.\n",
      "\n",
      "WARNING:tensorflow:From /usr/local/lib/python3.7/dist-packages/stable_baselines/ppo2/ppo2.py:190: The name tf.summary.scalar is deprecated. Please use tf.compat.v1.summary.scalar instead.\n",
      "\n",
      "WARNING:tensorflow:From /usr/local/lib/python3.7/dist-packages/stable_baselines/ppo2/ppo2.py:198: The name tf.trainable_variables is deprecated. Please use tf.compat.v1.trainable_variables instead.\n",
      "\n",
      "WARNING:tensorflow:From /usr/local/lib/python3.7/dist-packages/tensorflow_core/python/ops/math_grad.py:1424: where (from tensorflow.python.ops.array_ops) is deprecated and will be removed in a future version.\n",
      "Instructions for updating:\n",
      "Use tf.where in 2.0, which has the same broadcast rule as np.where\n",
      "WARNING:tensorflow:From /usr/local/lib/python3.7/dist-packages/stable_baselines/ppo2/ppo2.py:206: The name tf.train.AdamOptimizer is deprecated. Please use tf.compat.v1.train.AdamOptimizer instead.\n",
      "\n",
      "WARNING:tensorflow:From /usr/local/lib/python3.7/dist-packages/stable_baselines/ppo2/ppo2.py:240: The name tf.global_variables_initializer is deprecated. Please use tf.compat.v1.global_variables_initializer instead.\n",
      "\n",
      "WARNING:tensorflow:From /usr/local/lib/python3.7/dist-packages/stable_baselines/ppo2/ppo2.py:242: The name tf.summary.merge_all is deprecated. Please use tf.compat.v1.summary.merge_all instead.\n",
      "\n",
      "WARNING:tensorflow:From /usr/local/lib/python3.7/dist-packages/stable_baselines/common/base_class.py:1169: The name tf.summary.FileWriter is deprecated. Please use tf.compat.v1.summary.FileWriter instead.\n",
      "\n",
      "-------------------------------------\n",
      "| approxkl           | 0.0019259638 |\n",
      "| clipfrac           | 0.011393229  |\n",
      "| explained_variance | 0.119        |\n",
      "| fps                | 202          |\n",
      "| n_updates          | 1            |\n",
      "| policy_entropy     | 17.032127    |\n",
      "| policy_loss        | -0.006028815 |\n",
      "| serial_timesteps   | 128          |\n",
      "| time_elapsed       | 0.00036      |\n",
      "| total_timesteps    | 768          |\n",
      "| value_loss         | 16.422123    |\n",
      "-------------------------------------\n",
      "WARNING:tensorflow:From /usr/local/lib/python3.7/dist-packages/stable_baselines/common/tf_util.py:502: The name tf.Summary is deprecated. Please use tf.compat.v1.Summary instead.\n",
      "\n",
      "--------------------------------------\n",
      "| approxkl           | 0.00019600277 |\n",
      "| clipfrac           | 0.0           |\n",
      "| explained_variance | -0.434        |\n",
      "| fps                | 2579          |\n",
      "| n_updates          | 100           |\n",
      "| policy_entropy     | 17.232973     |\n",
      "| policy_loss        | -0.000343092  |\n",
      "| serial_timesteps   | 12800         |\n",
      "| time_elapsed       | 73.1          |\n",
      "| total_timesteps    | 76800         |\n",
      "| value_loss         | 24.028        |\n",
      "--------------------------------------\n",
      "-------------------------------------\n",
      "| approxkl           | 0.0012191752 |\n",
      "| clipfrac           | 0.0035807292 |\n",
      "| explained_variance | 0.0039       |\n",
      "| fps                | 2770         |\n",
      "| n_updates          | 200          |\n",
      "| policy_entropy     | 17.427395    |\n",
      "| policy_loss        | 0.0020845244 |\n",
      "| serial_timesteps   | 25600        |\n",
      "| time_elapsed       | 150          |\n",
      "| total_timesteps    | 153600       |\n",
      "| value_loss         | 2.9110577    |\n",
      "-------------------------------------\n",
      "--------------------------------------\n",
      "| approxkl           | 0.0012510818  |\n",
      "| clipfrac           | 0.0029296875  |\n",
      "| explained_variance | 0.0062        |\n",
      "| fps                | 2641          |\n",
      "| n_updates          | 300           |\n",
      "| policy_entropy     | 17.675945     |\n",
      "| policy_loss        | 0.00036620293 |\n",
      "| serial_timesteps   | 38400         |\n",
      "| time_elapsed       | 231           |\n",
      "| total_timesteps    | 230400        |\n",
      "| value_loss         | 5.7221055     |\n",
      "--------------------------------------\n",
      "-------------------------------------\n",
      "| approxkl           | 0.003906353  |\n",
      "| clipfrac           | 0.045572918  |\n",
      "| explained_variance | 0.00942      |\n",
      "| fps                | 2927         |\n",
      "| n_updates          | 400          |\n",
      "| policy_entropy     | 18.05325     |\n",
      "| policy_loss        | -0.009936636 |\n",
      "| serial_timesteps   | 51200        |\n",
      "| time_elapsed       | 303          |\n",
      "| total_timesteps    | 307200       |\n",
      "| value_loss         | 0.07120986   |\n",
      "-------------------------------------\n",
      "--------------------------------------\n",
      "| approxkl           | 0.00096364866 |\n",
      "| clipfrac           | 0.0029296875  |\n",
      "| explained_variance | 0.822         |\n",
      "| fps                | 2784          |\n",
      "| n_updates          | 500           |\n",
      "| policy_entropy     | 18.47787      |\n",
      "| policy_loss        | -0.0050538625 |\n",
      "| serial_timesteps   | 64000         |\n",
      "| time_elapsed       | 375           |\n",
      "| total_timesteps    | 384000        |\n",
      "| value_loss         | 4.3434386     |\n",
      "--------------------------------------\n",
      "-------------------------------------\n",
      "| approxkl           | 0.0022236318 |\n",
      "| clipfrac           | 0.016927084  |\n",
      "| explained_variance | 0.778        |\n",
      "| fps                | 68           |\n",
      "| n_updates          | 600          |\n",
      "| policy_entropy     | 18.669165    |\n",
      "| policy_loss        | -0.00702661  |\n",
      "| serial_timesteps   | 76800        |\n",
      "| time_elapsed       | 435          |\n",
      "| total_timesteps    | 460800       |\n",
      "| value_loss         | 0.23900619   |\n",
      "-------------------------------------\n",
      "--------------------------------------\n",
      "| approxkl           | 0.00078786217 |\n",
      "| clipfrac           | 0.0009765625  |\n",
      "| explained_variance | 0.991         |\n",
      "| fps                | 3042          |\n",
      "| n_updates          | 700           |\n",
      "| policy_entropy     | 19.115688     |\n",
      "| policy_loss        | -0.0006679043 |\n",
      "| serial_timesteps   | 89600         |\n",
      "| time_elapsed       | 506           |\n",
      "| total_timesteps    | 537600        |\n",
      "| value_loss         | 3.5532644     |\n",
      "--------------------------------------\n",
      "-------------------------------------\n",
      "| approxkl           | 0.0016330316 |\n",
      "| clipfrac           | 0.013997396  |\n",
      "| explained_variance | -0.733       |\n",
      "| fps                | 2983         |\n",
      "| n_updates          | 800          |\n",
      "| policy_entropy     | 19.327349    |\n",
      "| policy_loss        | -0.004145266 |\n",
      "| serial_timesteps   | 102400       |\n",
      "| time_elapsed       | 578          |\n",
      "| total_timesteps    | 614400       |\n",
      "| value_loss         | 6.175658     |\n",
      "-------------------------------------\n",
      "-------------------------------------\n",
      "| approxkl           | 0.0024605736 |\n",
      "| clipfrac           | 0.021809896  |\n",
      "| explained_variance | 0.781        |\n",
      "| fps                | 2845         |\n",
      "| n_updates          | 900          |\n",
      "| policy_entropy     | 19.71317     |\n",
      "| policy_loss        | -0.005803369 |\n",
      "| serial_timesteps   | 115200       |\n",
      "| time_elapsed       | 649          |\n",
      "| total_timesteps    | 691200       |\n",
      "| value_loss         | 1.2817466    |\n",
      "-------------------------------------\n",
      "--------------------------------------\n",
      "| approxkl           | 0.00080768665 |\n",
      "| clipfrac           | 0.0035807292  |\n",
      "| explained_variance | 0.991         |\n",
      "| fps                | 2680          |\n",
      "| n_updates          | 1000          |\n",
      "| policy_entropy     | 19.999601     |\n",
      "| policy_loss        | -0.0063479454 |\n",
      "| serial_timesteps   | 128000        |\n",
      "| time_elapsed       | 720           |\n",
      "| total_timesteps    | 768000        |\n",
      "| value_loss         | 1.2547894     |\n",
      "--------------------------------------\n",
      "--------------------------------------\n",
      "| approxkl           | 0.0010816338  |\n",
      "| clipfrac           | 0.0055338545  |\n",
      "| explained_variance | 0.954         |\n",
      "| fps                | 2857          |\n",
      "| n_updates          | 1100          |\n",
      "| policy_entropy     | 20.306364     |\n",
      "| policy_loss        | -0.0040730196 |\n",
      "| serial_timesteps   | 140800        |\n",
      "| time_elapsed       | 791           |\n",
      "| total_timesteps    | 844800        |\n",
      "| value_loss         | 0.8648979     |\n",
      "--------------------------------------\n",
      "--------------------------------------\n",
      "| approxkl           | 0.0010635761  |\n",
      "| clipfrac           | 0.0048828125  |\n",
      "| explained_variance | 0.996         |\n",
      "| fps                | 2961          |\n",
      "| n_updates          | 1200          |\n",
      "| policy_entropy     | 20.4856       |\n",
      "| policy_loss        | -0.0056973635 |\n",
      "| serial_timesteps   | 153600        |\n",
      "| time_elapsed       | 863           |\n",
      "| total_timesteps    | 921600        |\n",
      "| value_loss         | 1.2956107     |\n",
      "--------------------------------------\n",
      "--------------------------------------\n",
      "| approxkl           | 0.0013043076  |\n",
      "| clipfrac           | 0.0035807295  |\n",
      "| explained_variance | 0.843         |\n",
      "| fps                | 2982          |\n",
      "| n_updates          | 1300          |\n",
      "| policy_entropy     | 20.808397     |\n",
      "| policy_loss        | -0.0031926516 |\n",
      "| serial_timesteps   | 166400        |\n",
      "| time_elapsed       | 924           |\n",
      "| total_timesteps    | 998400        |\n",
      "| value_loss         | 0.5331614     |\n",
      "--------------------------------------\n",
      "-------------------------------------\n",
      "| approxkl           | 0.0019443616 |\n",
      "| clipfrac           | 0.014973959  |\n",
      "| explained_variance | 0.979        |\n",
      "| fps                | 2905         |\n",
      "| n_updates          | 1400         |\n",
      "| policy_entropy     | 21.067993    |\n",
      "| policy_loss        | -0.004685218 |\n",
      "| serial_timesteps   | 179200       |\n",
      "| time_elapsed       | 995          |\n",
      "| total_timesteps    | 1075200      |\n",
      "| value_loss         | 1.1804514    |\n",
      "-------------------------------------\n",
      "--------------------------------------\n",
      "| approxkl           | 0.0012735146  |\n",
      "| clipfrac           | 0.01171875    |\n",
      "| explained_variance | 0.995         |\n",
      "| fps                | 3022          |\n",
      "| n_updates          | 1500          |\n",
      "| policy_entropy     | 21.316877     |\n",
      "| policy_loss        | -0.0032240665 |\n",
      "| serial_timesteps   | 192000        |\n",
      "| time_elapsed       | 1.07e+03      |\n",
      "| total_timesteps    | 1152000       |\n",
      "| value_loss         | 2.2647042     |\n",
      "--------------------------------------\n",
      "--------------------------------------\n",
      "| approxkl           | 0.00051159976 |\n",
      "| clipfrac           | 0.0           |\n",
      "| explained_variance | 0.933         |\n",
      "| fps                | 2904          |\n",
      "| n_updates          | 1600          |\n",
      "| policy_entropy     | 21.63075      |\n",
      "| policy_loss        | -0.0007165604 |\n",
      "| serial_timesteps   | 204800        |\n",
      "| time_elapsed       | 1.14e+03      |\n",
      "| total_timesteps    | 1228800       |\n",
      "| value_loss         | 2.785656      |\n",
      "--------------------------------------\n",
      "--------------------------------------\n",
      "| approxkl           | 0.0013183781  |\n",
      "| clipfrac           | 0.011393229   |\n",
      "| explained_variance | 0.983         |\n",
      "| fps                | 2903          |\n",
      "| n_updates          | 1700          |\n",
      "| policy_entropy     | 21.980707     |\n",
      "| policy_loss        | -0.0044663874 |\n",
      "| serial_timesteps   | 217600        |\n",
      "| time_elapsed       | 1.21e+03      |\n",
      "| total_timesteps    | 1305600       |\n",
      "| value_loss         | 7.1647205     |\n",
      "--------------------------------------\n",
      "-------------------------------------\n",
      "| approxkl           | 0.001469542  |\n",
      "| clipfrac           | 0.0074869795 |\n",
      "| explained_variance | 0.989        |\n",
      "| fps                | 2863         |\n",
      "| n_updates          | 1800         |\n",
      "| policy_entropy     | 22.263607    |\n",
      "| policy_loss        | -0.00505851  |\n",
      "| serial_timesteps   | 230400       |\n",
      "| time_elapsed       | 1.28e+03     |\n",
      "| total_timesteps    | 1382400      |\n",
      "| value_loss         | 0.13695638   |\n",
      "-------------------------------------\n",
      "--------------------------------------\n",
      "| approxkl           | 0.00026413673 |\n",
      "| clipfrac           | 0.00032552084 |\n",
      "| explained_variance | 0.965         |\n",
      "| fps                | 2874          |\n",
      "| n_updates          | 1900          |\n",
      "| policy_entropy     | 22.4825       |\n",
      "| policy_loss        | -0.0028098943 |\n",
      "| serial_timesteps   | 243200        |\n",
      "| time_elapsed       | 1.34e+03      |\n",
      "| total_timesteps    | 1459200       |\n",
      "| value_loss         | 6.2443194     |\n",
      "--------------------------------------\n",
      "-------------------------------------\n",
      "| approxkl           | 0.0014347648 |\n",
      "| clipfrac           | 0.009114583  |\n",
      "| explained_variance | 0.996        |\n",
      "| fps                | 2773         |\n",
      "| n_updates          | 2000         |\n",
      "| policy_entropy     | 22.795855    |\n",
      "| policy_loss        | -0.004637992 |\n",
      "| serial_timesteps   | 256000       |\n",
      "| time_elapsed       | 1.41e+03     |\n",
      "| total_timesteps    | 1536000      |\n",
      "| value_loss         | 0.66073954   |\n",
      "-------------------------------------\n"
     ]
    },
    {
     "data": {
      "text/html": [
       "<br/>Waiting for W&B process to finish, PID 116<br/>Program ended successfully."
      ],
      "text/plain": [
       "<IPython.core.display.HTML object>"
      ]
     },
     "metadata": {},
     "output_type": "display_data"
    },
    {
     "data": {
      "text/html": [
       "Find user logs for this run at: <code>/sources/learning_experiments/experiments/notebooks/wandb/run-20210209_094518-3qm8pi4f/logs/debug.log</code>"
      ],
      "text/plain": [
       "<IPython.core.display.HTML object>"
      ]
     },
     "metadata": {},
     "output_type": "display_data"
    },
    {
     "data": {
      "text/html": [
       "Find internal logs for this run at: <code>/sources/learning_experiments/experiments/notebooks/wandb/run-20210209_094518-3qm8pi4f/logs/debug-internal.log</code>"
      ],
      "text/plain": [
       "<IPython.core.display.HTML object>"
      ]
     },
     "metadata": {},
     "output_type": "display_data"
    },
    {
     "data": {
      "text/html": [
       "<h3>Run summary:</h3><br/><style>\n",
       "    table.wandb td:nth-child(1) { padding: 0 10px; text-align: right }\n",
       "    </style><table class=\"wandb\">\n",
       "<tr><td>global_step</td><td>1600464</td></tr><tr><td>_timestamp</td><td>1612865418.28496</td></tr><tr><td>loss/entropy_loss</td><td>23.04729</td></tr><tr><td>loss/policy_gradient_loss</td><td>-0.02139</td></tr><tr><td>loss/value_function_loss</td><td>4.78224</td></tr><tr><td>loss/approximate_kullback-leibler</td><td>0.006</td></tr><tr><td>loss/clip_factor</td><td>0.07292</td></tr><tr><td>loss/loss</td><td>2.13926</td></tr><tr><td>input_info/discounted_rewards</td><td>119.2065</td></tr><tr><td>input_info/learning_rate</td><td>0.00025</td></tr><tr><td>input_info/advantage</td><td>-0.0</td></tr><tr><td>input_info/clip_range</td><td>0.2</td></tr><tr><td>input_info/clip_range_vf</td><td>0.2</td></tr><tr><td>input_info/old_neglog_action_probability</td><td>23.30828</td></tr><tr><td>input_info/old_value_pred</td><td>116.19164</td></tr><tr><td>_step</td><td>33327</td></tr><tr><td>episode_reward</td><td>1778.68921</td></tr><tr><td>test_reward_mean</td><td>1351.83117</td></tr><tr><td>test_reward_std</td><td>0.0</td></tr><tr><td>evaluations</td><td>79</td></tr><tr><td>_runtime</td><td>1499</td></tr></table>"
      ],
      "text/plain": [
       "<IPython.core.display.HTML object>"
      ]
     },
     "metadata": {},
     "output_type": "display_data"
    },
    {
     "data": {
      "text/html": [
       "<h3>Run history:</h3><br/><style>\n",
       "    table.wandb td:nth-child(1) { padding: 0 10px; text-align: right }\n",
       "    </style><table class=\"wandb\">\n",
       "<tr><td>global_step</td><td>▁▁▁▁▂▂▂▂▂▃▃▃▃▃▃▄▄▄▄▄▅▅▅▅▅▅▆▆▆▆▆▆▇▇▇▇▇███</td></tr><tr><td>_timestamp</td><td>▁▁▁▂▂▂▂▂▂▂▃▃▃▄▄▄▄▄▄▄▅▅▅▅▅▅▅▆▆▆▇▇▇▇▇▇▇▇██</td></tr><tr><td>loss/entropy_loss</td><td>▁▁▁▁▂▂▂▂▂▃▃▃▃▃▃▄▄▄▄▅▅▅▅▅▅▆▆▆▆▆▆▆▇▇▇▇▇▇██</td></tr><tr><td>loss/policy_gradient_loss</td><td>▇▇▇█▇▂█▅▅█▁▅▆▇█▅▇▆▅▆▄▅▅▇▆▇▇▄▆▅▆▅▅▅▅▆▅▄▄▆</td></tr><tr><td>loss/value_function_loss</td><td>▁▁▂▂▁▁▂▁▁▁▁▁▁▅▁▁▁▁▁▁▁▁▁▁▁▁▄▁▁▁▁▁▁▁▁▁▁▁▁█</td></tr><tr><td>loss/approximate_kullback-leibler</td><td>▂▁▁▁▃▇▂▄▂▅█▃▂▂▆▄▄▂▂▃▃▃▄▂▂▂▂▆▅▅▁▂▃▃▂▂▅▇▄▂</td></tr><tr><td>loss/clip_factor</td><td>▁▁▁▁▂█▁▃▂▅█▂▁▁▆▃▃▁▂▂▂▂▄▂▁▁▁▆▄▅▁▂▂▂▁▁▅▇▄▁</td></tr><tr><td>loss/loss</td><td>▁▁▂▂▁▁▂▁▁▁▁▁▁▅▁▁▁▁▁▁▁▁▁▁▁▁▄▁▁▁▁▁▁▁▁▁▁▁▁█</td></tr><tr><td>input_info/discounted_rewards</td><td>▁▂▃▄▄▅▄▅▄▄▅▅▄▃▅▆▆▆▆▆▇▆▆▅▄▆▃▇██▇▇▇▅▅▅▂▄▄▅</td></tr><tr><td>input_info/learning_rate</td><td>▁▁▁▁▁▁▁▁▁▁▁▁▁▁▁▁▁▁▁▁▁▁▁▁▁▁▁▁▁▁▁▁▁▁▁▁▁▁▁▁</td></tr><tr><td>input_info/advantage</td><td>▃▆█▅▁▄▃▃▃▄▃▃▃▃▃█▄▅▃▄▄▄▄▃▄▃▄▄▃▃▅▄▄▄▃▃▄▄▄▃</td></tr><tr><td>input_info/clip_range</td><td>▁▁▁▁▁▁▁▁▁▁▁▁▁▁▁▁▁▁▁▁▁▁▁▁▁▁▁▁▁▁▁▁▁▁▁▁▁▁▁▁</td></tr><tr><td>input_info/clip_range_vf</td><td>▁▁▁▁▁▁▁▁▁▁▁▁▁▁▁▁▁▁▁▁▁▁▁▁▁▁▁▁▁▁▁▁▁▁▁▁▁▁▁▁</td></tr><tr><td>input_info/old_neglog_action_probability</td><td>▁▁▁▁▁▂▂▂▂▂▃▃▃▃▄▄▄▄▄▄▅▅▅▅▅▅▆▆▆▆▆▇▆▇▇▇▇▇▇█</td></tr><tr><td>input_info/old_value_pred</td><td>▁▂▃▃▄▅▄▅▄▄▅▅▅▄▅▆▆▆▆▆▇▆▆▅▄▆▄▇██▇▇▇▅▅▆▂▄▄▅</td></tr><tr><td>_step</td><td>▁▁▁▁▂▂▂▂▂▃▃▃▃▃▃▄▄▄▄▄▅▅▅▅▅▅▆▆▆▆▆▆▇▇▇▇▇███</td></tr><tr><td>episode_reward</td><td>▃▃▃▃▃▄▄▃▂▂▃▄▄▁▄▄▅▃▅▆▇▅▃▆▃▆▄▄▅▆▇█▇▇█▆▇▇▃▅</td></tr><tr><td>test_reward_mean</td><td>▃▁▂▁▃▄▄▂▁▄▃▆▃▅▄▆▅▆▇▁▂▃▃▃▂▄█▅▄▄▅▇▃▃▃▃▂▂▂▃</td></tr><tr><td>test_reward_std</td><td>▁▁▁▁▁▁▁▁▁▁▁▁▁▁▁▁█▁▁▁▁▁▁▁▁▁▁▁▁▁▁▁▁▁▁▁▁▁▁▁</td></tr><tr><td>evaluations</td><td>▁▁▁▂▂▂▂▂▂▃▃▃▃▃▄▄▄▄▄▄▅▅▅▅▅▅▆▆▆▆▆▇▇▇▇▇▇███</td></tr><tr><td>_runtime</td><td>▁▁▁▂▂▂▂▂▃▃▃▃▃▃▄▄▄▄▄▄▅▅▅▅▅▆▆▆▆▆▆▇▇▇▇▇████</td></tr></table><br/>"
      ],
      "text/plain": [
       "<IPython.core.display.HTML object>"
      ]
     },
     "metadata": {},
     "output_type": "display_data"
    },
    {
     "data": {
      "text/html": [
       "Synced 5 W&B file(s), 79 media file(s), 0 artifact file(s) and 3 other file(s)"
      ],
      "text/plain": [
       "<IPython.core.display.HTML object>"
      ]
     },
     "metadata": {},
     "output_type": "display_data"
    },
    {
     "data": {
      "text/html": [
       "\n",
       "                    <br/>Synced <strong style=\"color:#cdcd00\">fast-grass-202</strong>: <a href=\"https://wandb.ai/wpi-mmr/solo-rl-experiments/runs/3qm8pi4f\" target=\"_blank\">https://wandb.ai/wpi-mmr/solo-rl-experiments/runs/3qm8pi4f</a><br/>\n",
       "                "
      ],
      "text/plain": [
       "<IPython.core.display.HTML object>"
      ]
     },
     "metadata": {},
     "output_type": "display_data"
    }
   ],
   "source": [
    "model, config, run = auto_trainer.train(train_env, test_env, config, TAGS, \n",
    "                                        log_freq=100, full_logging=False, run=run)"
   ]
  },
  {
   "cell_type": "code",
   "execution_count": null,
   "metadata": {},
   "outputs": [],
   "source": []
  }
 ],
 "metadata": {
  "jupytext": {
   "text_representation": {
    "extension": ".py",
    "format_name": "percent",
    "format_version": "1.3",
    "jupytext_version": "1.10.0"
   }
  },
  "kernelspec": {
   "display_name": "Python 3",
   "language": "python",
   "name": "python3"
  },
  "language_info": {
   "codemirror_mode": {
    "name": "ipython",
    "version": 3
   },
   "file_extension": ".py",
   "mimetype": "text/x-python",
   "name": "python",
   "nbconvert_exporter": "python",
   "pygments_lexer": "ipython3",
   "version": "3.7.5"
  }
 },
 "nbformat": 4,
 "nbformat_minor": 4
}
