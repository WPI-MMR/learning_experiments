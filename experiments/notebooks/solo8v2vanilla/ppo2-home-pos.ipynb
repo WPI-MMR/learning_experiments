{
 "cells": [
  {
   "cell_type": "markdown",
   "metadata": {},
   "source": [
    "# PPO2 on Solo8 v2 Vanilla for Quadrupedal Standing\n",
    "Try to get the solo to stand on 4 feet stabley"
   ]
  },
  {
   "cell_type": "markdown",
   "metadata": {},
   "source": [
    "## Ensure that Tensorflow is using the GPU"
   ]
  },
  {
   "cell_type": "code",
   "execution_count": 1,
   "metadata": {},
   "outputs": [
    {
     "name": "stdout",
     "output_type": "stream",
     "text": [
      "Default GPU Device: /device:GPU:0\n"
     ]
    }
   ],
   "source": [
    "import tensorflow as tf\n",
    "if tf.test.gpu_device_name():\n",
    "    print('Default GPU Device: {}'.format(tf.test.gpu_device_name()))\n",
    "else:\n",
    "    print(\"Please install GPU version of TF\")"
   ]
  },
  {
   "cell_type": "markdown",
   "metadata": {},
   "source": [
    "## Define Experiment Tags"
   ]
  },
  {
   "cell_type": "code",
   "execution_count": 2,
   "metadata": {},
   "outputs": [],
   "source": [
    "TAGS = ['solov2vanilla', 'gpu', 'home_pos_split_task', \n",
    "        'unnormalized_actions']"
   ]
  },
  {
   "cell_type": "markdown",
   "metadata": {},
   "source": [
    "# Import required libraries"
   ]
  },
  {
   "cell_type": "code",
   "execution_count": 3,
   "metadata": {},
   "outputs": [
    {
     "name": "stderr",
     "output_type": "stream",
     "text": [
      "/usr/local/lib/python3.7/dist-packages/gym/logger.py:30: UserWarning: \u001b[33mWARN: Box bound precision lowered by casting to float32\u001b[0m\n",
      "  warnings.warn(colorize('%s: %s'%('WARN', msg % args), 'yellow'))\n"
     ]
    }
   ],
   "source": [
    "from gym_solo.envs import solo8v2vanilla\n",
    "from gym_solo.core import obs\n",
    "from gym_solo.core import rewards\n",
    "from gym_solo.core import termination as terms\n",
    "\n",
    "import gym\n",
    "import gym_solo"
   ]
  },
  {
   "cell_type": "markdown",
   "metadata": {},
   "source": [
    "## Parse CLI arguments and register w/ wandb"
   ]
  },
  {
   "cell_type": "markdown",
   "metadata": {},
   "source": [
    "This experiment will be using the auto trainer to handle all of the hyperparmeter running"
   ]
  },
  {
   "cell_type": "code",
   "execution_count": 4,
   "metadata": {},
   "outputs": [
    {
     "name": "stdout",
     "output_type": "stream",
     "text": [
      "WARNING:tensorflow:\n",
      "The TensorFlow contrib module will not be included in TensorFlow 2.0.\n",
      "For more information, please see:\n",
      "  * https://github.com/tensorflow/community/blob/master/rfcs/20180907-contrib-sunset.md\n",
      "  * https://github.com/tensorflow/addons\n",
      "  * https://github.com/tensorflow/io (for I/O related ops)\n",
      "If you depend on functionality not listed there, please file an issue.\n",
      "\n"
     ]
    }
   ],
   "source": [
    "from auto_trainer import params\n",
    "import auto_trainer"
   ]
  },
  {
   "cell_type": "markdown",
   "metadata": {},
   "source": [
    "Give the robot a total of 10 seconds simulation time to learn how to stand."
   ]
  },
  {
   "cell_type": "code",
   "execution_count": 5,
   "metadata": {},
   "outputs": [
    {
     "data": {
      "text/plain": [
       "2000.0"
      ]
     },
     "execution_count": 5,
     "metadata": {},
     "output_type": "execute_result"
    }
   ],
   "source": [
    "episode_length = 2 / solo8v2vanilla.Solo8VanillaConfig.dt\n",
    "episode_length"
   ]
  },
  {
   "cell_type": "markdown",
   "metadata": {},
   "source": [
    "Create a basic config"
   ]
  },
  {
   "cell_type": "code",
   "execution_count": 6,
   "metadata": {},
   "outputs": [
    {
     "data": {
      "text/plain": [
       "Namespace(algorithm='PPO2', episode_length=2000.0, episodes=12500, eval_episodes=3, eval_frequency=50, eval_render_freq=44, fps=15, num_workers=6, policy='MlpPolicy', target_torso_height=0.33698)"
      ]
     },
     "execution_count": 6,
     "metadata": {},
     "output_type": "execute_result"
    }
   ],
   "source": [
    "config = params.WandbParameters().parse()\n",
    "\n",
    "config.episodes = 12500\n",
    "config.episode_length = episode_length\n",
    "\n",
    "config.target_torso_height = 0.33698 # Found experimentally\n",
    "\n",
    "config.num_workers = 6\n",
    "config.eval_frequency = 50\n",
    "config.eval_episodes = 3\n",
    "config.fps = 15\n",
    "\n",
    "# Create a 3 second gif\n",
    "config.eval_render_freq = int(config.episode_length / (3 * config.fps))\n",
    "\n",
    "config"
   ]
  },
  {
   "cell_type": "code",
   "execution_count": 7,
   "metadata": {},
   "outputs": [
    {
     "name": "stderr",
     "output_type": "stream",
     "text": [
      "\u001b[34m\u001b[1mwandb\u001b[0m: Currently logged in as: \u001b[33magupta231\u001b[0m (use `wandb login --relogin` to force relogin)\n",
      "/usr/local/lib/python3.7/dist-packages/IPython/html.py:14: ShimWarning: The `IPython.html` package has been deprecated since IPython 4.0. You should import from `notebook` instead. `IPython.html.widgets` has moved to `ipywidgets`.\n",
      "  \"`IPython.html.widgets` has moved to `ipywidgets`.\", ShimWarning)\n"
     ]
    },
    {
     "data": {
      "text/html": [
       "\n",
       "                Tracking run with wandb version 0.10.18<br/>\n",
       "                Syncing run <strong style=\"color:#cdcd00\">good-serenity-249</strong> to <a href=\"https://wandb.ai\" target=\"_blank\">Weights & Biases</a> <a href=\"https://docs.wandb.com/integrations/jupyter.html\" target=\"_blank\">(Documentation)</a>.<br/>\n",
       "                Project page: <a href=\"https://wandb.ai/wpi-mmr/solo-rl-experiments\" target=\"_blank\">https://wandb.ai/wpi-mmr/solo-rl-experiments</a><br/>\n",
       "                Run page: <a href=\"https://wandb.ai/wpi-mmr/solo-rl-experiments/runs/1bzzrklz\" target=\"_blank\">https://wandb.ai/wpi-mmr/solo-rl-experiments/runs/1bzzrklz</a><br/>\n",
       "                Run data is saved locally in <code>/sources/learning_experiments/experiments/notebooks/wandb/run-20210213_212354-1bzzrklz</code><br/><br/>\n",
       "            "
      ],
      "text/plain": [
       "<IPython.core.display.HTML object>"
      ]
     },
     "metadata": {},
     "output_type": "display_data"
    },
    {
     "data": {
      "text/plain": [
       "{'episodes': 12500, 'episode_length': 2000.0, 'policy': 'MlpPolicy', 'algorithm': 'PPO2', 'num_workers': 6, 'eval_episodes': 3, 'eval_frequency': 50, 'eval_render_freq': 44, 'fps': 15, 'target_torso_height': 0.33698}"
      ]
     },
     "execution_count": 7,
     "metadata": {},
     "output_type": "execute_result"
    }
   ],
   "source": [
    "config, run = auto_trainer.get_synced_config(config, TAGS)\n",
    "config"
   ]
  },
  {
   "cell_type": "markdown",
   "metadata": {},
   "source": [
    "Add the following inputs to the robot / environment:\n",
    "\n",
    "**Observations**\n",
    "- TorsoIMU\n",
    "- Motor encoder current values\n",
    "\n",
    "**Reward**\n",
    "- How flat the torso is\n",
    "- Minimize the amount of control in the joints\n",
    "- Minimize the amount of torso movement\n",
    "- Keeping the torso at a given height\n",
    "\n",
    "**Termination Criteria**\n",
    "- Terminate after $n$ timesteps"
   ]
  },
  {
   "cell_type": "code",
   "execution_count": 8,
   "metadata": {},
   "outputs": [],
   "source": [
    "def make_env(length, quad_standing_height):\n",
    "    def _init():\n",
    "        env_config = solo8v2vanilla.Solo8VanillaConfig()\n",
    "        env = gym.make('solo8vanilla-v0', config=env_config, \n",
    "                       normalize_actions=False)\n",
    "\n",
    "        env.obs_factory.register_observation(obs.TorsoIMU(env.robot))\n",
    "        env.obs_factory.register_observation(obs.MotorEncoder(env.robot))\n",
    "        env.termination_factory.register_termination(terms.TimeBasedTermination(length))\n",
    "\n",
    "        env.reward_factory.register_reward(.2, rewards.SmallControlReward(env.robot))\n",
    "        env.reward_factory.register_reward(.2, rewards.HorizontalMoveSpeedReward(env.robot, 0))\n",
    "        env.reward_factory.register_reward(.3, rewards.FlatTorsoReward(env.robot))\n",
    "        env.reward_factory.register_reward(.3, rewards.TorsoHeightReward(env.robot, quad_standing_height))\n",
    "\n",
    "        return env\n",
    "    return _init"
   ]
  },
  {
   "cell_type": "markdown",
   "metadata": {},
   "source": [
    "### Create the Envs\n",
    "Import the desired vectorized env"
   ]
  },
  {
   "cell_type": "code",
   "execution_count": 9,
   "metadata": {},
   "outputs": [],
   "source": [
    "from stable_baselines.common.vec_env import SubprocVecEnv\n",
    "from stable_baselines.common.vec_env import VecNormalize"
   ]
  },
  {
   "cell_type": "markdown",
   "metadata": {},
   "source": [
    "Create training & testing environments"
   ]
  },
  {
   "cell_type": "code",
   "execution_count": 10,
   "metadata": {},
   "outputs": [
    {
     "name": "stderr",
     "output_type": "stream",
     "text": [
      "/usr/local/lib/python3.7/dist-packages/gym/logger.py:30: UserWarning: \u001b[33mWARN: Box bound precision lowered by casting to float32\u001b[0m\n",
      "  warnings.warn(colorize('%s: %s'%('WARN', msg % args), 'yellow'))\n"
     ]
    }
   ],
   "source": [
    "train_env = SubprocVecEnv([make_env(config.episode_length, \n",
    "                                    config.target_torso_height) \n",
    "                           for _ in range(config.num_workers)])\n",
    "\n",
    "test_env = make_env(config.episode_length, \n",
    "                    config.target_torso_height)()"
   ]
  },
  {
   "cell_type": "markdown",
   "metadata": {},
   "source": [
    "## Learning\n",
    "And we're off!"
   ]
  },
  {
   "cell_type": "code",
   "execution_count": null,
   "metadata": {
    "scrolled": true
   },
   "outputs": [
    {
     "name": "stdout",
     "output_type": "stream",
     "text": [
      "WARNING:tensorflow:From /usr/local/lib/python3.7/dist-packages/stable_baselines/common/tf_util.py:191: The name tf.ConfigProto is deprecated. Please use tf.compat.v1.ConfigProto instead.\n",
      "\n",
      "WARNING:tensorflow:From /usr/local/lib/python3.7/dist-packages/stable_baselines/common/tf_util.py:200: The name tf.Session is deprecated. Please use tf.compat.v1.Session instead.\n",
      "\n",
      "WARNING:tensorflow:From /usr/local/lib/python3.7/dist-packages/stable_baselines/common/policies.py:116: The name tf.variable_scope is deprecated. Please use tf.compat.v1.variable_scope instead.\n",
      "\n",
      "WARNING:tensorflow:From /usr/local/lib/python3.7/dist-packages/stable_baselines/common/input.py:25: The name tf.placeholder is deprecated. Please use tf.compat.v1.placeholder instead.\n",
      "\n",
      "WARNING:tensorflow:From /usr/local/lib/python3.7/dist-packages/stable_baselines/common/policies.py:561: flatten (from tensorflow.python.layers.core) is deprecated and will be removed in a future version.\n",
      "Instructions for updating:\n",
      "Use keras.layers.flatten instead.\n",
      "WARNING:tensorflow:From /usr/local/lib/python3.7/dist-packages/tensorflow_core/python/layers/core.py:332: Layer.apply (from tensorflow.python.keras.engine.base_layer) is deprecated and will be removed in a future version.\n",
      "Instructions for updating:\n",
      "Please use `layer.__call__` method instead.\n",
      "WARNING:tensorflow:From /usr/local/lib/python3.7/dist-packages/stable_baselines/common/tf_layers.py:123: The name tf.get_variable is deprecated. Please use tf.compat.v1.get_variable instead.\n",
      "\n",
      "WARNING:tensorflow:From /usr/local/lib/python3.7/dist-packages/stable_baselines/common/distributions.py:418: The name tf.random_normal is deprecated. Please use tf.random.normal instead.\n",
      "\n",
      "WARNING:tensorflow:From /usr/local/lib/python3.7/dist-packages/stable_baselines/ppo2/ppo2.py:190: The name tf.summary.scalar is deprecated. Please use tf.compat.v1.summary.scalar instead.\n",
      "\n",
      "WARNING:tensorflow:From /usr/local/lib/python3.7/dist-packages/stable_baselines/ppo2/ppo2.py:198: The name tf.trainable_variables is deprecated. Please use tf.compat.v1.trainable_variables instead.\n",
      "\n",
      "WARNING:tensorflow:From /usr/local/lib/python3.7/dist-packages/tensorflow_core/python/ops/math_grad.py:1424: where (from tensorflow.python.ops.array_ops) is deprecated and will be removed in a future version.\n",
      "Instructions for updating:\n",
      "Use tf.where in 2.0, which has the same broadcast rule as np.where\n",
      "WARNING:tensorflow:From /usr/local/lib/python3.7/dist-packages/stable_baselines/ppo2/ppo2.py:206: The name tf.train.AdamOptimizer is deprecated. Please use tf.compat.v1.train.AdamOptimizer instead.\n",
      "\n",
      "WARNING:tensorflow:From /usr/local/lib/python3.7/dist-packages/stable_baselines/ppo2/ppo2.py:240: The name tf.global_variables_initializer is deprecated. Please use tf.compat.v1.global_variables_initializer instead.\n",
      "\n",
      "WARNING:tensorflow:From /usr/local/lib/python3.7/dist-packages/stable_baselines/ppo2/ppo2.py:242: The name tf.summary.merge_all is deprecated. Please use tf.compat.v1.summary.merge_all instead.\n",
      "\n",
      "WARNING:tensorflow:From /usr/local/lib/python3.7/dist-packages/stable_baselines/common/base_class.py:1169: The name tf.summary.FileWriter is deprecated. Please use tf.compat.v1.summary.FileWriter instead.\n",
      "\n",
      "-------------------------------------\n",
      "| approxkl           | 0.0020415455 |\n",
      "| clipfrac           | 0.0146484375 |\n",
      "| explained_variance | 0.00457      |\n",
      "| fps                | 846          |\n",
      "| n_updates          | 1            |\n",
      "| policy_entropy     | 17.030174    |\n",
      "| policy_loss        | -0.007542923 |\n",
      "| serial_timesteps   | 128          |\n",
      "| time_elapsed       | 0.000398     |\n",
      "| total_timesteps    | 768          |\n",
      "| value_loss         | 25.362036    |\n",
      "-------------------------------------\n",
      "WARNING:tensorflow:From /usr/local/lib/python3.7/dist-packages/stable_baselines/common/tf_util.py:502: The name tf.Summary is deprecated. Please use tf.compat.v1.Summary instead.\n",
      "\n"
     ]
    },
    {
     "name": "stderr",
     "output_type": "stream",
     "text": [
      "\u001b[34m\u001b[1mwandb\u001b[0m: \u001b[33mWARNING\u001b[0m Step cannot be set when using syncing with tensorboard. Please log your step values as a metric such as 'global_step'\n"
     ]
    },
    {
     "name": "stdout",
     "output_type": "stream",
     "text": [
      "-------------------------------------\n",
      "| approxkl           | 0.0031291447 |\n",
      "| clipfrac           | 0.031575523  |\n",
      "| explained_variance | 0.826        |\n",
      "| fps                | 2043         |\n",
      "| n_updates          | 1000         |\n",
      "| policy_entropy     | 19.829273    |\n",
      "| policy_loss        | -0.005137819 |\n",
      "| serial_timesteps   | 128000       |\n",
      "| time_elapsed       | 478          |\n",
      "| total_timesteps    | 768000       |\n",
      "| value_loss         | 2.128748     |\n",
      "-------------------------------------\n",
      "--------------------------------------\n",
      "| approxkl           | 0.0039522056  |\n",
      "| clipfrac           | 0.03841146    |\n",
      "| explained_variance | 0.962         |\n",
      "| fps                | 2125          |\n",
      "| n_updates          | 2000          |\n",
      "| policy_entropy     | 22.701862     |\n",
      "| policy_loss        | -0.0034469045 |\n",
      "| serial_timesteps   | 256000        |\n",
      "| time_elapsed       | 934           |\n",
      "| total_timesteps    | 1536000       |\n",
      "| value_loss         | 1.6868482     |\n",
      "--------------------------------------\n",
      "-------------------------------------\n",
      "| approxkl           | 0.0037699712 |\n",
      "| clipfrac           | 0.044596355  |\n",
      "| explained_variance | 0.981        |\n",
      "| fps                | 2405         |\n",
      "| n_updates          | 3000         |\n",
      "| policy_entropy     | 25.65331     |\n",
      "| policy_loss        | -0.007928022 |\n",
      "| serial_timesteps   | 384000       |\n",
      "| time_elapsed       | 1.39e+03     |\n",
      "| total_timesteps    | 2304000      |\n",
      "| value_loss         | 1.3839507    |\n",
      "-------------------------------------\n",
      "--------------------------------------\n",
      "| approxkl           | 0.0029370517  |\n",
      "| clipfrac           | 0.029947914   |\n",
      "| explained_variance | 0.967         |\n",
      "| fps                | 2484          |\n",
      "| n_updates          | 4000          |\n",
      "| policy_entropy     | 28.31286      |\n",
      "| policy_loss        | -0.0050606965 |\n",
      "| serial_timesteps   | 512000        |\n",
      "| time_elapsed       | 1.84e+03      |\n",
      "| total_timesteps    | 3072000       |\n",
      "| value_loss         | 1.9563494     |\n",
      "--------------------------------------\n",
      "-------------------------------------\n",
      "| approxkl           | 0.0022107395 |\n",
      "| clipfrac           | 0.019856771  |\n",
      "| explained_variance | 0.921        |\n",
      "| fps                | 2511         |\n",
      "| n_updates          | 5000         |\n",
      "| policy_entropy     | 31.4192      |\n",
      "| policy_loss        | -0.009823005 |\n",
      "| serial_timesteps   | 640000       |\n",
      "| time_elapsed       | 2.28e+03     |\n",
      "| total_timesteps    | 3840000      |\n",
      "| value_loss         | 1.5489073    |\n",
      "-------------------------------------\n",
      "--------------------------------------\n",
      "| approxkl           | 0.000637444   |\n",
      "| clipfrac           | 0.0026041665  |\n",
      "| explained_variance | 0.873         |\n",
      "| fps                | 2550          |\n",
      "| n_updates          | 6000          |\n",
      "| policy_entropy     | 34.729416     |\n",
      "| policy_loss        | -0.0025371322 |\n",
      "| serial_timesteps   | 768000        |\n",
      "| time_elapsed       | 2.76e+03      |\n",
      "| total_timesteps    | 4608000       |\n",
      "| value_loss         | 1.7863251     |\n",
      "--------------------------------------\n",
      "--------------------------------------\n",
      "| approxkl           | 0.00087884464 |\n",
      "| clipfrac           | 0.007161458   |\n",
      "| explained_variance | 0.938         |\n",
      "| fps                | 2537          |\n",
      "| n_updates          | 7000          |\n",
      "| policy_entropy     | 37.685127     |\n",
      "| policy_loss        | -0.0039517074 |\n",
      "| serial_timesteps   | 896000        |\n",
      "| time_elapsed       | 3.22e+03      |\n",
      "| total_timesteps    | 5376000       |\n",
      "| value_loss         | 2.093615      |\n",
      "--------------------------------------\n",
      "-------------------------------------\n",
      "| approxkl           | 0.0014250836 |\n",
      "| clipfrac           | 0.0107421875 |\n",
      "| explained_variance | 0.979        |\n",
      "| fps                | 2636         |\n",
      "| n_updates          | 8000         |\n",
      "| policy_entropy     | 40.65939     |\n",
      "| policy_loss        | -0.007026256 |\n",
      "| serial_timesteps   | 1024000      |\n",
      "| time_elapsed       | 3.73e+03     |\n",
      "| total_timesteps    | 6144000      |\n",
      "| value_loss         | 0.8560571    |\n",
      "-------------------------------------\n",
      "--------------------------------------\n",
      "| approxkl           | 0.0005932283  |\n",
      "| clipfrac           | 0.001953125   |\n",
      "| explained_variance | 0.967         |\n",
      "| fps                | 2522          |\n",
      "| n_updates          | 9000          |\n",
      "| policy_entropy     | 43.7007       |\n",
      "| policy_loss        | -0.0024680735 |\n",
      "| serial_timesteps   | 1152000       |\n",
      "| time_elapsed       | 4.28e+03      |\n",
      "| total_timesteps    | 6912000       |\n",
      "| value_loss         | 2.8328836     |\n",
      "--------------------------------------\n",
      "--------------------------------------\n",
      "| approxkl           | 0.00019794152 |\n",
      "| clipfrac           | 0.0           |\n",
      "| explained_variance | 0.908         |\n",
      "| fps                | 2598          |\n",
      "| n_updates          | 10000         |\n",
      "| policy_entropy     | 46.78208      |\n",
      "| policy_loss        | -0.001285488  |\n",
      "| serial_timesteps   | 1280000       |\n",
      "| time_elapsed       | 4.79e+03      |\n",
      "| total_timesteps    | 7680000       |\n",
      "| value_loss         | 3.7750936     |\n",
      "--------------------------------------\n",
      "--------------------------------------\n",
      "| approxkl           | 0.00095375784 |\n",
      "| clipfrac           | 0.004231771   |\n",
      "| explained_variance | 0.929         |\n",
      "| fps                | 2590          |\n",
      "| n_updates          | 11000         |\n",
      "| policy_entropy     | 49.829        |\n",
      "| policy_loss        | -0.0015949775 |\n",
      "| serial_timesteps   | 1408000       |\n",
      "| time_elapsed       | 5.33e+03      |\n",
      "| total_timesteps    | 8448000       |\n",
      "| value_loss         | 2.6685243     |\n",
      "--------------------------------------\n",
      "--------------------------------------\n",
      "| approxkl           | 0.00041305684 |\n",
      "| clipfrac           | 0.0009765625  |\n",
      "| explained_variance | 0.976         |\n",
      "| fps                | 2329          |\n",
      "| n_updates          | 12000         |\n",
      "| policy_entropy     | 52.903114     |\n",
      "| policy_loss        | -0.002695598  |\n",
      "| serial_timesteps   | 1536000       |\n",
      "| time_elapsed       | 5.88e+03      |\n",
      "| total_timesteps    | 9216000       |\n",
      "| value_loss         | 1.6671121     |\n",
      "--------------------------------------\n",
      "---------------------------------------\n",
      "| approxkl           | 0.00026212196  |\n",
      "| clipfrac           | 0.0            |\n",
      "| explained_variance | 0.946          |\n",
      "| fps                | 2292           |\n",
      "| n_updates          | 13000          |\n",
      "| policy_entropy     | 55.971886      |\n",
      "| policy_loss        | -0.00076185184 |\n",
      "| serial_timesteps   | 1664000        |\n",
      "| time_elapsed       | 6.37e+03       |\n",
      "| total_timesteps    | 9984000        |\n",
      "| value_loss         | 2.044373       |\n",
      "---------------------------------------\n"
     ]
    }
   ],
   "source": [
    "model, config, run = auto_trainer.train(train_env, test_env, config, TAGS, \n",
    "                                        log_freq=1000, full_logging=False, run=run)"
   ]
  },
  {
   "cell_type": "code",
   "execution_count": null,
   "metadata": {},
   "outputs": [],
   "source": []
  }
 ],
 "metadata": {
  "jupytext": {
   "text_representation": {
    "extension": ".py",
    "format_name": "percent",
    "format_version": "1.3",
    "jupytext_version": "1.10.0"
   }
  },
  "kernelspec": {
   "display_name": "Python 3",
   "language": "python",
   "name": "python3"
  },
  "language_info": {
   "codemirror_mode": {
    "name": "ipython",
    "version": 3
   },
   "file_extension": ".py",
   "mimetype": "text/x-python",
   "name": "python",
   "nbconvert_exporter": "python",
   "pygments_lexer": "ipython3",
   "version": "3.7.5"
  }
 },
 "nbformat": 4,
 "nbformat_minor": 4
}
