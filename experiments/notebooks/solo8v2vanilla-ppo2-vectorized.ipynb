{
 "cells": [
  {
   "cell_type": "markdown",
   "metadata": {},
   "source": [
    "# PPO2 on Solo8 v2 Vanilla w/ Fixed Timestamp & Vectorized Environments\n",
    "Vectorized environment test"
   ]
  },
  {
   "cell_type": "markdown",
   "metadata": {},
   "source": [
    "## Ensure that Tensorflow is using the GPU"
   ]
  },
  {
   "cell_type": "code",
   "execution_count": 1,
   "metadata": {},
   "outputs": [
    {
     "name": "stdout",
     "output_type": "stream",
     "text": [
      "Default GPU Device: /device:GPU:0\n"
     ]
    }
   ],
   "source": [
    "import tensorflow as tf\n",
    "if tf.test.gpu_device_name():\n",
    "    print('Default GPU Device: {}'.format(tf.test.gpu_device_name()))\n",
    "else:\n",
    "    print(\"Please install GPU version of TF\")"
   ]
  },
  {
   "cell_type": "markdown",
   "metadata": {},
   "source": [
    "## Define Experiment Tags"
   ]
  },
  {
   "cell_type": "code",
   "execution_count": 2,
   "metadata": {},
   "outputs": [],
   "source": [
    "TAGS = ['solov2vanilla', 'gpu', 'home_pos_task']"
   ]
  },
  {
   "cell_type": "markdown",
   "metadata": {},
   "source": [
    "## Get Solo Environment Configuration"
   ]
  },
  {
   "cell_type": "markdown",
   "metadata": {},
   "source": [
    "Import the relevant libraries + rewards & observations"
   ]
  },
  {
   "cell_type": "code",
   "execution_count": 3,
   "metadata": {},
   "outputs": [
    {
     "name": "stderr",
     "output_type": "stream",
     "text": [
      "/usr/local/lib/python3.7/dist-packages/gym/logger.py:30: UserWarning: \u001b[33mWARN: Box bound precision lowered by casting to float32\u001b[0m\n",
      "  warnings.warn(colorize('%s: %s'%('WARN', msg % args), 'yellow'))\n"
     ]
    }
   ],
   "source": [
    "from gym_solo.envs import solo8v2vanilla\n",
    "from gym_solo.core import obs\n",
    "from gym_solo.core import rewards\n",
    "from gym_solo.core import termination as terms\n",
    "\n",
    "import gym\n",
    "import gym_solo"
   ]
  },
  {
   "cell_type": "markdown",
   "metadata": {},
   "source": [
    "Create the config for the enviornment"
   ]
  },
  {
   "cell_type": "code",
   "execution_count": 4,
   "metadata": {},
   "outputs": [],
   "source": [
    "env_config = solo8v2vanilla.Solo8VanillaConfig()"
   ]
  },
  {
   "cell_type": "markdown",
   "metadata": {},
   "source": [
    "## Parse CLI arguments and register w/ wandb"
   ]
  },
  {
   "cell_type": "markdown",
   "metadata": {},
   "source": [
    "This experiment will be using the auto trainer to handle all of the hyperparmeter running"
   ]
  },
  {
   "cell_type": "code",
   "execution_count": 5,
   "metadata": {},
   "outputs": [
    {
     "name": "stdout",
     "output_type": "stream",
     "text": [
      "WARNING:tensorflow:\n",
      "The TensorFlow contrib module will not be included in TensorFlow 2.0.\n",
      "For more information, please see:\n",
      "  * https://github.com/tensorflow/community/blob/master/rfcs/20180907-contrib-sunset.md\n",
      "  * https://github.com/tensorflow/addons\n",
      "  * https://github.com/tensorflow/io (for I/O related ops)\n",
      "If you depend on functionality not listed there, please file an issue.\n",
      "\n"
     ]
    }
   ],
   "source": [
    "from auto_trainer import params\n",
    "import auto_trainer"
   ]
  },
  {
   "cell_type": "markdown",
   "metadata": {},
   "source": [
    "Create a basic config. Give the robot a total of 60 seconds simulation time to learn how to stand."
   ]
  },
  {
   "cell_type": "code",
   "execution_count": 6,
   "metadata": {},
   "outputs": [
    {
     "name": "stderr",
     "output_type": "stream",
     "text": [
      "\u001b[34m\u001b[1mwandb\u001b[0m: Currently logged in as: \u001b[33magupta231\u001b[0m (use `wandb login --relogin` to force relogin)\n",
      "/usr/local/lib/python3.7/dist-packages/IPython/html.py:14: ShimWarning: The `IPython.html` package has been deprecated since IPython 4.0. You should import from `notebook` instead. `IPython.html.widgets` has moved to `ipywidgets`.\n",
      "  \"`IPython.html.widgets` has moved to `ipywidgets`.\", ShimWarning)\n"
     ]
    },
    {
     "data": {
      "text/html": [
       "\n",
       "                Tracking run with wandb version 0.10.17<br/>\n",
       "                Syncing run <strong style=\"color:#cdcd00\">crisp-pyramid-91</strong> to <a href=\"https://wandb.ai\" target=\"_blank\">Weights & Biases</a> <a href=\"https://docs.wandb.com/integrations/jupyter.html\" target=\"_blank\">(Documentation)</a>.<br/>\n",
       "                Project page: <a href=\"https://wandb.ai/wpi-mmr/solo-rl-experiments\" target=\"_blank\">https://wandb.ai/wpi-mmr/solo-rl-experiments</a><br/>\n",
       "                Run page: <a href=\"https://wandb.ai/wpi-mmr/solo-rl-experiments/runs/2kv4wjfx\" target=\"_blank\">https://wandb.ai/wpi-mmr/solo-rl-experiments/runs/2kv4wjfx</a><br/>\n",
       "                Run data is saved locally in <code>/sources/learning_experiments/experiments/notebooks/wandb/run-20210206_193250-2kv4wjfx</code><br/><br/>\n",
       "            "
      ],
      "text/plain": [
       "<IPython.core.display.HTML object>"
      ]
     },
     "metadata": {},
     "output_type": "display_data"
    },
    {
     "data": {
      "text/plain": [
       "{'episodes': 10, 'episode_length': 1000, 'policy': 'MlpPolicy', 'algorithm': 'PPO2'}"
      ]
     },
     "execution_count": 6,
     "metadata": {},
     "output_type": "execute_result"
    }
   ],
   "source": [
    "config = params.BaseParameters().parse()\n",
    "\n",
    "config.episodes = 10\n",
    "# config.episode_length = 10 / env_config.dt\n",
    "config.episode_length = 1000\n",
    "\n",
    "# auto_trainer.trainer._WANDB=False\n",
    "config, run = auto_trainer.get_synced_config(config, TAGS)\n",
    "config"
   ]
  },
  {
   "cell_type": "markdown",
   "metadata": {},
   "source": [
    "## Setup Environment\n",
    "Add the following inputs to the robot / environment:\n",
    "\n",
    "**Observations**\n",
    "- TorsoIMU\n",
    "- Motor encoder current values\n",
    "\n",
    "**Reward**\n",
    "- How upright the TorsoIMU is. Valued in $[-1, 1]$\n",
    "\n",
    "**Termination Criteria**\n",
    "- Terminate after $n$ timesteps"
   ]
  },
  {
   "cell_type": "code",
   "execution_count": 7,
   "metadata": {},
   "outputs": [],
   "source": [
    "def make_env(length):\n",
    "    def _init():\n",
    "        env = gym.make('solo8vanilla-v0', config=env_config)\n",
    "\n",
    "        env.obs_factory.register_observation(obs.TorsoIMU(env.robot))\n",
    "        env.obs_factory.register_observation(obs.MotorEncoder(env.robot))\n",
    "\n",
    "        # env.reward_factory.register_reward(1, rewards.UprightReward(env.robot))\n",
    "        env.reward_factory.register_reward(1, rewards.HomePositionReward(env.robot))\n",
    "\n",
    "        env.termination_factory.register_termination(terms.TimeBasedTermination(length))\n",
    "        \n",
    "        return env\n",
    "    return _init"
   ]
  },
  {
   "cell_type": "markdown",
   "metadata": {},
   "source": [
    "## Learning"
   ]
  },
  {
   "cell_type": "markdown",
   "metadata": {},
   "source": [
    "Hand-vectorize the environment. Note that this should be abstracted out into its own utility method eventually."
   ]
  },
  {
   "cell_type": "code",
   "execution_count": 8,
   "metadata": {},
   "outputs": [
    {
     "data": {
      "text/plain": [
       "<stable_baselines.common.vec_env.subproc_vec_env.SubprocVecEnv at 0x7f1afd92fc90>"
      ]
     },
     "execution_count": 8,
     "metadata": {},
     "output_type": "execute_result"
    }
   ],
   "source": [
    "from stable_baselines.common.vec_env import SubprocVecEnv\n",
    "\n",
    "NUM_WORKERS = 4\n",
    "env = SubprocVecEnv([make_env(config.episode_length) for _ in range(NUM_WORKERS)])\n",
    "env"
   ]
  },
  {
   "cell_type": "markdown",
   "metadata": {},
   "source": [
    "Train on the vectorized environment instead"
   ]
  },
  {
   "cell_type": "code",
   "execution_count": 9,
   "metadata": {
    "scrolled": true
   },
   "outputs": [
    {
     "name": "stdout",
     "output_type": "stream",
     "text": [
      "WARNING:tensorflow:From /usr/local/lib/python3.7/dist-packages/stable_baselines/common/tf_util.py:191: The name tf.ConfigProto is deprecated. Please use tf.compat.v1.ConfigProto instead.\n",
      "\n",
      "WARNING:tensorflow:From /usr/local/lib/python3.7/dist-packages/stable_baselines/common/tf_util.py:200: The name tf.Session is deprecated. Please use tf.compat.v1.Session instead.\n",
      "\n",
      "WARNING:tensorflow:From /usr/local/lib/python3.7/dist-packages/stable_baselines/common/policies.py:116: The name tf.variable_scope is deprecated. Please use tf.compat.v1.variable_scope instead.\n",
      "\n",
      "WARNING:tensorflow:From /usr/local/lib/python3.7/dist-packages/stable_baselines/common/input.py:25: The name tf.placeholder is deprecated. Please use tf.compat.v1.placeholder instead.\n",
      "\n",
      "WARNING:tensorflow:From /usr/local/lib/python3.7/dist-packages/stable_baselines/common/policies.py:561: flatten (from tensorflow.python.layers.core) is deprecated and will be removed in a future version.\n",
      "Instructions for updating:\n",
      "Use keras.layers.flatten instead.\n",
      "WARNING:tensorflow:From /usr/local/lib/python3.7/dist-packages/tensorflow_core/python/layers/core.py:332: Layer.apply (from tensorflow.python.keras.engine.base_layer) is deprecated and will be removed in a future version.\n",
      "Instructions for updating:\n",
      "Please use `layer.__call__` method instead.\n",
      "WARNING:tensorflow:From /usr/local/lib/python3.7/dist-packages/stable_baselines/common/tf_layers.py:123: The name tf.get_variable is deprecated. Please use tf.compat.v1.get_variable instead.\n",
      "\n",
      "WARNING:tensorflow:From /usr/local/lib/python3.7/dist-packages/stable_baselines/common/distributions.py:418: The name tf.random_normal is deprecated. Please use tf.random.normal instead.\n",
      "\n",
      "WARNING:tensorflow:From /usr/local/lib/python3.7/dist-packages/stable_baselines/ppo2/ppo2.py:190: The name tf.summary.scalar is deprecated. Please use tf.compat.v1.summary.scalar instead.\n",
      "\n",
      "WARNING:tensorflow:From /usr/local/lib/python3.7/dist-packages/stable_baselines/ppo2/ppo2.py:198: The name tf.trainable_variables is deprecated. Please use tf.compat.v1.trainable_variables instead.\n",
      "\n",
      "WARNING:tensorflow:From /usr/local/lib/python3.7/dist-packages/tensorflow_core/python/ops/math_grad.py:1424: where (from tensorflow.python.ops.array_ops) is deprecated and will be removed in a future version.\n",
      "Instructions for updating:\n",
      "Use tf.where in 2.0, which has the same broadcast rule as np.where\n",
      "WARNING:tensorflow:From /usr/local/lib/python3.7/dist-packages/stable_baselines/ppo2/ppo2.py:206: The name tf.train.AdamOptimizer is deprecated. Please use tf.compat.v1.train.AdamOptimizer instead.\n",
      "\n",
      "WARNING:tensorflow:From /usr/local/lib/python3.7/dist-packages/stable_baselines/ppo2/ppo2.py:240: The name tf.global_variables_initializer is deprecated. Please use tf.compat.v1.global_variables_initializer instead.\n",
      "\n",
      "WARNING:tensorflow:From /usr/local/lib/python3.7/dist-packages/stable_baselines/ppo2/ppo2.py:242: The name tf.summary.merge_all is deprecated. Please use tf.compat.v1.summary.merge_all instead.\n",
      "\n",
      "WARNING:tensorflow:From /usr/local/lib/python3.7/dist-packages/stable_baselines/common/base_class.py:1169: The name tf.summary.FileWriter is deprecated. Please use tf.compat.v1.summary.FileWriter instead.\n",
      "\n",
      "-------------------------------------\n",
      "| approxkl           | 0.0020724821 |\n",
      "| clipfrac           | 0.012207031  |\n",
      "| explained_variance | 0.0126       |\n",
      "| fps                | 569          |\n",
      "| n_updates          | 1            |\n",
      "| policy_entropy     | 17.029213    |\n",
      "| policy_loss        | -0.008221899 |\n",
      "| serial_timesteps   | 128          |\n",
      "| time_elapsed       | 0.000262     |\n",
      "| total_timesteps    | 512          |\n",
      "| value_loss         | 16.60308     |\n",
      "-------------------------------------\n",
      "WARNING:tensorflow:From /usr/local/lib/python3.7/dist-packages/stable_baselines/common/tf_util.py:502: The name tf.Summary is deprecated. Please use tf.compat.v1.Summary instead.\n",
      "\n"
     ]
    },
    {
     "data": {
      "text/html": [
       "<br/>Waiting for W&B process to finish, PID 3862<br/>Program ended successfully."
      ],
      "text/plain": [
       "<IPython.core.display.HTML object>"
      ]
     },
     "metadata": {},
     "output_type": "display_data"
    },
    {
     "data": {
      "text/html": [
       "Find user logs for this run at: <code>/sources/learning_experiments/experiments/notebooks/wandb/run-20210206_193250-2kv4wjfx/logs/debug.log</code>"
      ],
      "text/plain": [
       "<IPython.core.display.HTML object>"
      ]
     },
     "metadata": {},
     "output_type": "display_data"
    },
    {
     "data": {
      "text/html": [
       "Find internal logs for this run at: <code>/sources/learning_experiments/experiments/notebooks/wandb/run-20210206_193250-2kv4wjfx/logs/debug-internal.log</code>"
      ],
      "text/plain": [
       "<IPython.core.display.HTML object>"
      ]
     },
     "metadata": {},
     "output_type": "display_data"
    },
    {
     "data": {
      "text/html": [
       "<h3>Run summary:</h3><br/><style>\n",
       "    table.wandb td:nth-child(1) { padding: 0 10px; text-align: right }\n",
       "    </style><table class=\"wandb\">\n",
       "<tr><td>global_step</td><td>10208</td></tr><tr><td>_timestamp</td><td>1612639982.79303</td></tr><tr><td>loss/entropy_loss</td><td>17.08247</td></tr><tr><td>loss/policy_gradient_loss</td><td>-0.00204</td></tr><tr><td>loss/value_function_loss</td><td>81.94783</td></tr><tr><td>loss/approximate_kullback-leibler</td><td>0.00066</td></tr><tr><td>loss/clip_factor</td><td>0.0</td></tr><tr><td>loss/loss</td><td>40.80105</td></tr><tr><td>input_info/discounted_rewards</td><td>19.10188</td></tr><tr><td>input_info/learning_rate</td><td>0.00025</td></tr><tr><td>input_info/advantage</td><td>0.0</td></tr><tr><td>input_info/clip_range</td><td>0.2</td></tr><tr><td>input_info/clip_range_vf</td><td>0.2</td></tr><tr><td>input_info/old_neglog_action_probability</td><td>17.21967</td></tr><tr><td>input_info/old_value_pred</td><td>6.50029</td></tr><tr><td>_step</td><td>303</td></tr><tr><td>episode_reward</td><td>805.40961</td></tr></table>"
      ],
      "text/plain": [
       "<IPython.core.display.HTML object>"
      ]
     },
     "metadata": {},
     "output_type": "display_data"
    },
    {
     "data": {
      "text/html": [
       "<h3>Run history:</h3><br/><style>\n",
       "    table.wandb td:nth-child(1) { padding: 0 10px; text-align: right }\n",
       "    </style><table class=\"wandb\">\n",
       "<tr><td>global_step</td><td>▁▁▁▁▂▂▂▂▂▃▃▃▃▃▃▄▄▄▄▄▅▅▅▅▅▅▆▆▆▆▆▇▇▇▇▇▇███</td></tr><tr><td>_timestamp</td><td>▁▁▁▁▁▁▁▁▁▁▁▁▁▁▁▁▁▁▁▁▁▁▁▁▁▁▁▁▁▁▁▁▁▁▁▁▁▁▁▁</td></tr><tr><td>loss/entropy_loss</td><td>▁▁▁▁▁▂▂▃▃▃▄▄▅▅▅▅▅▅▅▅▅▅▅▅▅▅▅▅▅▅▆▆▆▆▇▇████</td></tr><tr><td>loss/policy_gradient_loss</td><td>▇▃▂▇▁▆▅▆▆▆▆▆▆▇▆▆▇▆▄▆▅▇▇▆▆▆▆▄▆▆▇█▆▅▆▃▆▂▇▅</td></tr><tr><td>loss/value_function_loss</td><td>▁▁▁▄▃▆▆█▇██▇▇▆▆▃▃▁▁▃▃▆▆▇▇▆▇▆▅▆▄▄▁▁▁▁▄▄▆▆</td></tr><tr><td>loss/approximate_kullback-leibler</td><td>▁▃█▂▄▂▃▁▁▁▁▁▁▁▂▁▂▁▂▁▃▁▂▁▁▁▁▁▁▁▁▁▁▂▁▃▂▆▁▂</td></tr><tr><td>loss/clip_factor</td><td>▁▁█▁▂▁▁▁▁▁▁▁▁▁▁▁▁▁▁▁▁▁▁▁▁▁▁▁▁▁▁▁▁▁▁▁▁▆▁▁</td></tr><tr><td>loss/loss</td><td>▁▁▁▄▃▆▆█▇██▇▇▆▆▃▃▁▁▃▃▆▆▇▇▆▇▆▅▆▄▄▁▁▁▁▄▄▆▆</td></tr><tr><td>input_info/discounted_rewards</td><td>▁▁▁▄▃▅▅▆▆▆▆▆▆▅▅▄▄▃▃▅▅▇▆▇▇▆▆▆▅▆▅▅▃▃▅▅▇▇██</td></tr><tr><td>input_info/learning_rate</td><td>▁▁▁▁▁▁▁▁▁▁▁▁▁▁▁▁▁▁▁▁▁▁▁▁▁▁▁▁▁▁▁▁▁▁▁▁▁▁▁▁</td></tr><tr><td>input_info/advantage</td><td>▇▃▆█▄▂▅▅▃▅▅▃▁▅▅▅▅▅▅▇▅▃▂▂▇▃▅▆▅▅▄▂▅▄▇▁▅█▁▅</td></tr><tr><td>input_info/clip_range</td><td>▁▁▁▁▁▁▁▁▁▁▁▁▁▁▁▁▁▁▁▁▁▁▁▁▁▁▁▁▁▁▁▁▁▁▁▁▁▁▁▁</td></tr><tr><td>input_info/clip_range_vf</td><td>▁▁▁▁▁▁▁▁▁▁▁▁▁▁▁▁▁▁▁▁▁▁▁▁▁▁▁▁▁▁▁▁▁▁▁▁▁▁▁▁</td></tr><tr><td>input_info/old_neglog_action_probability</td><td>▆▇▄▆▆▅▆▅▇▃▁▅█▆▄▆▄▅▃▄▄▇▆▅▃▆█▅▆▆▆▄▄▄▅█▃▇▇▆</td></tr><tr><td>input_info/old_value_pred</td><td>▁▁▁▁▁▂▂▂▂▂▂▂▂▂▂▃▃▅▅▅▅▄▄▄▄▄▄▃▃▃▄▄▆▆████▇▇</td></tr><tr><td>_step</td><td>▁▁▁▁▂▂▂▂▂▃▃▃▃▃▃▄▄▄▄▄▅▅▅▅▅▅▆▆▆▆▆▇▇▇▇▇▇███</td></tr><tr><td>episode_reward</td><td>█▁</td></tr></table><br/>"
      ],
      "text/plain": [
       "<IPython.core.display.HTML object>"
      ]
     },
     "metadata": {},
     "output_type": "display_data"
    },
    {
     "data": {
      "text/html": [
       "Synced 5 W&B file(s), 0 media file(s), 0 artifact file(s) and 3 other file(s)"
      ],
      "text/plain": [
       "<IPython.core.display.HTML object>"
      ]
     },
     "metadata": {},
     "output_type": "display_data"
    },
    {
     "data": {
      "text/html": [
       "\n",
       "                    <br/>Synced <strong style=\"color:#cdcd00\">crisp-pyramid-91</strong>: <a href=\"https://wandb.ai/wpi-mmr/solo-rl-experiments/runs/2kv4wjfx\" target=\"_blank\">https://wandb.ai/wpi-mmr/solo-rl-experiments/runs/2kv4wjfx</a><br/>\n",
       "                "
      ],
      "text/plain": [
       "<IPython.core.display.HTML object>"
      ]
     },
     "metadata": {},
     "output_type": "display_data"
    }
   ],
   "source": [
    "model, config, run = auto_trainer.train(env, config, TAGS, log_freq=100,\n",
    "                                        full_logging=False, run=run)"
   ]
  },
  {
   "cell_type": "code",
   "execution_count": 10,
   "metadata": {},
   "outputs": [
    {
     "data": {
      "text/plain": [
       "<stable_baselines.ppo2.ppo2.PPO2 at 0x7f1b252a4ed0>"
      ]
     },
     "execution_count": 10,
     "metadata": {},
     "output_type": "execute_result"
    }
   ],
   "source": [
    "model"
   ]
  }
 ],
 "metadata": {
  "jupytext": {
   "text_representation": {
    "extension": ".py",
    "format_name": "percent",
    "format_version": "1.3",
    "jupytext_version": "1.9.1"
   }
  },
  "kernelspec": {
   "display_name": "Python 3",
   "language": "python",
   "name": "python3"
  },
  "language_info": {
   "codemirror_mode": {
    "name": "ipython",
    "version": 3
   },
   "file_extension": ".py",
   "mimetype": "text/x-python",
   "name": "python",
   "nbconvert_exporter": "python",
   "pygments_lexer": "ipython3",
   "version": "3.7.5"
  }
 },
 "nbformat": 4,
 "nbformat_minor": 4
}
