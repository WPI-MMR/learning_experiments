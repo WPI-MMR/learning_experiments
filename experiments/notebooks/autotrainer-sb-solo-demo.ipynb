{
 "cells": [
  {
   "cell_type": "markdown",
   "metadata": {},
   "source": [
    "# Auto Trainer & Stable Baselines Demostration w/ Solo8\n",
    "A quick example on how to use the auto trainer framework alongisde stable-baslines to quickly monitor and train a model. Note that we will be using Weights and Biases to make the monitoring a bit easier."
   ]
  },
  {
   "cell_type": "markdown",
   "metadata": {},
   "source": [
    "## Define the experiment tags\n",
    "This isn't necessary if you aren't using W&B, but it's a great way to organize your run data!"
   ]
  },
  {
   "cell_type": "code",
   "execution_count": 1,
   "metadata": {},
   "outputs": [],
   "source": [
    "TAGS = ['demo', 'solov2vanilla', 'cpu']"
   ]
  },
  {
   "cell_type": "markdown",
   "metadata": {},
   "source": [
    "## Set up the Solo Environment\n",
    "Note that this is using the Solov2Vanilla environment."
   ]
  },
  {
   "cell_type": "markdown",
   "metadata": {},
   "source": [
    "Import all of the required packages"
   ]
  },
  {
   "cell_type": "code",
   "execution_count": 2,
   "metadata": {},
   "outputs": [
    {
     "name": "stderr",
     "output_type": "stream",
     "text": [
      "/home/agupta/Documents/education/wpi/senior/mqp/venv-solo/lib/python3.7/site-packages/gym/logger.py:30: UserWarning: \u001b[33mWARN: Box bound precision lowered by casting to float32\u001b[0m\n",
      "  warnings.warn(colorize('%s: %s'%('WARN', msg % args), 'yellow'))\n"
     ]
    }
   ],
   "source": [
    "from gym_solo.envs import solo8v2vanilla\n",
    "from gym_solo.core import obs\n",
    "from gym_solo.core import rewards\n",
    "from gym_solo import testing\n",
    "\n",
    "import gym\n",
    "import gym_solo"
   ]
  },
  {
   "cell_type": "markdown",
   "metadata": {},
   "source": [
    "Create the environment config and instaniate the registered environment"
   ]
  },
  {
   "cell_type": "code",
   "execution_count": 3,
   "metadata": {},
   "outputs": [],
   "source": [
    "env_config = solo8v2vanilla.Solo8VanillaConfig()\n",
    "env = gym.make('solo8vanilla-v0', config=env_config)"
   ]
  },
  {
   "cell_type": "markdown",
   "metadata": {},
   "source": [
    "Register all of the observations and rewards. Note that in this case, the observation is just the IMU and the rewards is on how upright the robot is. Modifying these values will probably be the biggest factor in determining convergence."
   ]
  },
  {
   "cell_type": "code",
   "execution_count": 4,
   "metadata": {},
   "outputs": [],
   "source": [
    "env.obs_factory.register_observation(obs.TorsoIMU(env.robot))\n",
    "env.reward_factory.register_reward(1, rewards.UprightReward(env.robot))"
   ]
  },
  {
   "cell_type": "markdown",
   "metadata": {},
   "source": [
    "And now the environment is all prepped to train on!"
   ]
  },
  {
   "cell_type": "markdown",
   "metadata": {},
   "source": [
    "## Learning!\n",
    "As soon as the env is ready, learning *should* be trivial."
   ]
  },
  {
   "cell_type": "markdown",
   "metadata": {},
   "source": [
    "Import the parameters and the `auto_trainer` itself. The `BaseParameters` is an extendable class where you can ad custom parameters for specific experiments. In this case, we arne't doing anything special, so we will just use the barebones verison."
   ]
  },
  {
   "cell_type": "code",
   "execution_count": 5,
   "metadata": {},
   "outputs": [
    {
     "name": "stdout",
     "output_type": "stream",
     "text": [
      "WARNING:tensorflow:\n",
      "The TensorFlow contrib module will not be included in TensorFlow 2.0.\n",
      "For more information, please see:\n",
      "  * https://github.com/tensorflow/community/blob/master/rfcs/20180907-contrib-sunset.md\n",
      "  * https://github.com/tensorflow/addons\n",
      "  * https://github.com/tensorflow/io (for I/O related ops)\n",
      "If you depend on functionality not listed there, please file an issue.\n",
      "\n"
     ]
    }
   ],
   "source": [
    "from auto_trainer.params import BaseParameters\n",
    "import auto_trainer"
   ]
  },
  {
   "cell_type": "markdown",
   "metadata": {},
   "source": [
    "Parse the base parameters. Note that if you are performing a Weights & Biases sweep, these values will get overriden by the global organizer."
   ]
  },
  {
   "cell_type": "code",
   "execution_count": 6,
   "metadata": {},
   "outputs": [
    {
     "data": {
      "text/plain": [
       "Namespace(algorithm='PPO2', episodes=5000, policy='MlpPolicy')"
      ]
     },
     "execution_count": 6,
     "metadata": {},
     "output_type": "execute_result"
    }
   ],
   "source": [
    "config = BaseParameters().parse()\n",
    "config.episodes=5000\n",
    "\n",
    "config"
   ]
  },
  {
   "cell_type": "markdown",
   "metadata": {},
   "source": [
    "And thats it, we should be ready to train!"
   ]
  },
  {
   "cell_type": "code",
   "execution_count": 7,
   "metadata": {
    "scrolled": true
   },
   "outputs": [
    {
     "name": "stderr",
     "output_type": "stream",
     "text": [
      "\u001b[34m\u001b[1mwandb\u001b[0m: Currently logged in as: \u001b[33magupta231\u001b[0m (use `wandb login --relogin` to force relogin)\n"
     ]
    },
    {
     "data": {
      "text/html": [
       "\n",
       "                Tracking run with wandb version 0.10.10<br/>\n",
       "                Syncing run <strong style=\"color:#cdcd00\">treasured-star-30</strong> to <a href=\"https://wandb.ai\" target=\"_blank\">Weights & Biases</a> <a href=\"https://docs.wandb.com/integrations/jupyter.html\" target=\"_blank\">(Documentation)</a>.<br/>\n",
       "                Project page: <a href=\"https://wandb.ai/wpi-mmr/solo-rl-experiments\" target=\"_blank\">https://wandb.ai/wpi-mmr/solo-rl-experiments</a><br/>\n",
       "                Run page: <a href=\"https://wandb.ai/wpi-mmr/solo-rl-experiments/runs/2gx240jv\" target=\"_blank\">https://wandb.ai/wpi-mmr/solo-rl-experiments/runs/2gx240jv</a><br/>\n",
       "                Run data is saved locally in <code>/home/agupta/Documents/education/wpi/senior/mqp/learning_experiments/experiments/notebooks/wandb/run-20201118_113035-2gx240jv</code><br/><br/>\n",
       "            "
      ],
      "text/plain": [
       "<IPython.core.display.HTML object>"
      ]
     },
     "metadata": {},
     "output_type": "display_data"
    },
    {
     "name": "stdout",
     "output_type": "stream",
     "text": [
      "Wrapping the env in a DummyVecEnv.\n",
      "WARNING:tensorflow:From /home/agupta/Documents/education/wpi/senior/mqp/venv-solo/lib/python3.7/site-packages/stable_baselines/common/tf_util.py:191: The name tf.ConfigProto is deprecated. Please use tf.compat.v1.ConfigProto instead.\n",
      "\n",
      "WARNING:tensorflow:From /home/agupta/Documents/education/wpi/senior/mqp/venv-solo/lib/python3.7/site-packages/stable_baselines/common/tf_util.py:200: The name tf.Session is deprecated. Please use tf.compat.v1.Session instead.\n",
      "\n",
      "WARNING:tensorflow:From /home/agupta/Documents/education/wpi/senior/mqp/venv-solo/lib/python3.7/site-packages/stable_baselines/common/policies.py:116: The name tf.variable_scope is deprecated. Please use tf.compat.v1.variable_scope instead.\n",
      "\n",
      "WARNING:tensorflow:From /home/agupta/Documents/education/wpi/senior/mqp/venv-solo/lib/python3.7/site-packages/stable_baselines/common/input.py:25: The name tf.placeholder is deprecated. Please use tf.compat.v1.placeholder instead.\n",
      "\n",
      "WARNING:tensorflow:From /home/agupta/Documents/education/wpi/senior/mqp/venv-solo/lib/python3.7/site-packages/stable_baselines/common/policies.py:561: flatten (from tensorflow.python.layers.core) is deprecated and will be removed in a future version.\n",
      "Instructions for updating:\n",
      "Use keras.layers.flatten instead.\n",
      "WARNING:tensorflow:From /home/agupta/Documents/education/wpi/senior/mqp/venv-solo/lib/python3.7/site-packages/tensorflow_core/python/layers/core.py:332: Layer.apply (from tensorflow.python.keras.engine.base_layer) is deprecated and will be removed in a future version.\n",
      "Instructions for updating:\n",
      "Please use `layer.__call__` method instead.\n",
      "WARNING:tensorflow:From /home/agupta/Documents/education/wpi/senior/mqp/venv-solo/lib/python3.7/site-packages/stable_baselines/common/tf_layers.py:123: The name tf.get_variable is deprecated. Please use tf.compat.v1.get_variable instead.\n",
      "\n",
      "WARNING:tensorflow:From /home/agupta/Documents/education/wpi/senior/mqp/venv-solo/lib/python3.7/site-packages/stable_baselines/common/distributions.py:418: The name tf.random_normal is deprecated. Please use tf.random.normal instead.\n",
      "\n"
     ]
    },
    {
     "name": "stderr",
     "output_type": "stream",
     "text": [
      "/home/agupta/Documents/education/wpi/senior/mqp/venv-solo/lib/python3.7/site-packages/gym/logger.py:30: UserWarning: \u001b[33mWARN: Box bound precision lowered by casting to float32\u001b[0m\n",
      "  warnings.warn(colorize('%s: %s'%('WARN', msg % args), 'yellow'))\n"
     ]
    },
    {
     "name": "stdout",
     "output_type": "stream",
     "text": [
      "WARNING:tensorflow:From /home/agupta/Documents/education/wpi/senior/mqp/venv-solo/lib/python3.7/site-packages/stable_baselines/ppo2/ppo2.py:190: The name tf.summary.scalar is deprecated. Please use tf.compat.v1.summary.scalar instead.\n",
      "\n",
      "WARNING:tensorflow:From /home/agupta/Documents/education/wpi/senior/mqp/venv-solo/lib/python3.7/site-packages/stable_baselines/ppo2/ppo2.py:198: The name tf.trainable_variables is deprecated. Please use tf.compat.v1.trainable_variables instead.\n",
      "\n",
      "WARNING:tensorflow:From /home/agupta/Documents/education/wpi/senior/mqp/venv-solo/lib/python3.7/site-packages/stable_baselines/ppo2/ppo2.py:201: The name tf.summary.histogram is deprecated. Please use tf.compat.v1.summary.histogram instead.\n",
      "\n",
      "INFO:tensorflow:Summary name model/pi_fc0/w:0 is illegal; using model/pi_fc0/w_0 instead.\n",
      "INFO:tensorflow:Summary name model/pi_fc0/b:0 is illegal; using model/pi_fc0/b_0 instead.\n",
      "INFO:tensorflow:Summary name model/vf_fc0/w:0 is illegal; using model/vf_fc0/w_0 instead.\n",
      "INFO:tensorflow:Summary name model/vf_fc0/b:0 is illegal; using model/vf_fc0/b_0 instead.\n",
      "INFO:tensorflow:Summary name model/pi_fc1/w:0 is illegal; using model/pi_fc1/w_0 instead.\n",
      "INFO:tensorflow:Summary name model/pi_fc1/b:0 is illegal; using model/pi_fc1/b_0 instead.\n",
      "INFO:tensorflow:Summary name model/vf_fc1/w:0 is illegal; using model/vf_fc1/w_0 instead.\n",
      "INFO:tensorflow:Summary name model/vf_fc1/b:0 is illegal; using model/vf_fc1/b_0 instead.\n",
      "INFO:tensorflow:Summary name model/vf/w:0 is illegal; using model/vf/w_0 instead.\n",
      "INFO:tensorflow:Summary name model/vf/b:0 is illegal; using model/vf/b_0 instead.\n",
      "INFO:tensorflow:Summary name model/pi/w:0 is illegal; using model/pi/w_0 instead.\n",
      "INFO:tensorflow:Summary name model/pi/b:0 is illegal; using model/pi/b_0 instead.\n",
      "INFO:tensorflow:Summary name model/pi/logstd:0 is illegal; using model/pi/logstd_0 instead.\n",
      "INFO:tensorflow:Summary name model/q/w:0 is illegal; using model/q/w_0 instead.\n",
      "INFO:tensorflow:Summary name model/q/b:0 is illegal; using model/q/b_0 instead.\n",
      "WARNING:tensorflow:From /home/agupta/Documents/education/wpi/senior/mqp/venv-solo/lib/python3.7/site-packages/tensorflow_core/python/ops/math_grad.py:1424: where (from tensorflow.python.ops.array_ops) is deprecated and will be removed in a future version.\n",
      "Instructions for updating:\n",
      "Use tf.where in 2.0, which has the same broadcast rule as np.where\n",
      "WARNING:tensorflow:From /home/agupta/Documents/education/wpi/senior/mqp/venv-solo/lib/python3.7/site-packages/stable_baselines/ppo2/ppo2.py:206: The name tf.train.AdamOptimizer is deprecated. Please use tf.compat.v1.train.AdamOptimizer instead.\n",
      "\n",
      "WARNING:tensorflow:From /home/agupta/Documents/education/wpi/senior/mqp/venv-solo/lib/python3.7/site-packages/stable_baselines/ppo2/ppo2.py:240: The name tf.global_variables_initializer is deprecated. Please use tf.compat.v1.global_variables_initializer instead.\n",
      "\n",
      "WARNING:tensorflow:From /home/agupta/Documents/education/wpi/senior/mqp/venv-solo/lib/python3.7/site-packages/stable_baselines/ppo2/ppo2.py:242: The name tf.summary.merge_all is deprecated. Please use tf.compat.v1.summary.merge_all instead.\n",
      "\n",
      "WARNING:tensorflow:From /home/agupta/Documents/education/wpi/senior/mqp/venv-solo/lib/python3.7/site-packages/stable_baselines/common/base_class.py:1169: The name tf.summary.FileWriter is deprecated. Please use tf.compat.v1.summary.FileWriter instead.\n",
      "\n",
      "WARNING:tensorflow:From /home/agupta/Documents/education/wpi/senior/mqp/venv-solo/lib/python3.7/site-packages/stable_baselines/ppo2/ppo2.py:285: The name tf.RunOptions is deprecated. Please use tf.compat.v1.RunOptions instead.\n",
      "\n",
      "WARNING:tensorflow:From /home/agupta/Documents/education/wpi/senior/mqp/venv-solo/lib/python3.7/site-packages/stable_baselines/ppo2/ppo2.py:286: The name tf.RunMetadata is deprecated. Please use tf.compat.v1.RunMetadata instead.\n",
      "\n",
      "-------------------------------------\n",
      "| approxkl           | 0.0007078658 |\n",
      "| clipfrac           | 0.009765625  |\n",
      "| explained_variance | -2.79        |\n",
      "| fps                | 217          |\n",
      "| n_updates          | 1            |\n",
      "| policy_entropy     | 17.027527    |\n",
      "| policy_loss        | -0.012677748 |\n",
      "| serial_timesteps   | 128          |\n",
      "| time_elapsed       | 0.000236     |\n",
      "| total_timesteps    | 128          |\n",
      "| value_loss         | 0.0018235265 |\n",
      "-------------------------------------\n"
     ]
    },
    {
     "data": {
      "text/html": [
       "<br/>Waiting for W&B process to finish, PID 27075<br/>Program ended successfully."
      ],
      "text/plain": [
       "<IPython.core.display.HTML object>"
      ]
     },
     "metadata": {},
     "output_type": "display_data"
    },
    {
     "data": {
      "application/vnd.jupyter.widget-view+json": {
       "model_id": "",
       "version_major": 2,
       "version_minor": 0
      },
      "text/plain": [
       "VBox(children=(Label(value=' 4.77MB of 44.26MB uploaded (0.00MB deduped)\\r'), FloatProgress(value=0.1078675356…"
      ]
     },
     "metadata": {},
     "output_type": "display_data"
    },
    {
     "data": {
      "text/html": [
       "Find user logs for this run at: <code>/home/agupta/Documents/education/wpi/senior/mqp/learning_experiments/experiments/notebooks/wandb/run-20201118_113035-2gx240jv/logs/debug.log</code>"
      ],
      "text/plain": [
       "<IPython.core.display.HTML object>"
      ]
     },
     "metadata": {},
     "output_type": "display_data"
    },
    {
     "data": {
      "text/html": [
       "Find internal logs for this run at: <code>/home/agupta/Documents/education/wpi/senior/mqp/learning_experiments/experiments/notebooks/wandb/run-20201118_113035-2gx240jv/logs/debug-internal.log</code>"
      ],
      "text/plain": [
       "<IPython.core.display.HTML object>"
      ]
     },
     "metadata": {},
     "output_type": "display_data"
    },
    {
     "data": {
      "text/html": [
       "<h3>Run summary:</h3><br/><style>\n",
       "    table.wandb td:nth-child(1) { padding: 0 10px; text-align: right }\n",
       "    </style><table class=\"wandb\">\n",
       "<tr><td>global_step</td><td>5112</td></tr><tr><td>_timestamp</td><td>1605717041.49933</td></tr><tr><td>loss/entropy_loss</td><td>17.07687</td></tr><tr><td>loss/policy_gradient_loss</td><td>-0.02098</td></tr><tr><td>loss/value_function_loss</td><td>0.00018</td></tr><tr><td>loss/approximate_kullback-leibler</td><td>0.00154</td></tr><tr><td>loss/clip_factor</td><td>0.03125</td></tr><tr><td>loss/loss</td><td>-0.19166</td></tr><tr><td>input_info/discounted_rewards</td><td>0.00792</td></tr><tr><td>input_info/learning_rate</td><td>0.00025</td></tr><tr><td>input_info/advantage</td><td>0.0</td></tr><tr><td>input_info/clip_range</td><td>0.2</td></tr><tr><td>input_info/clip_range_vf</td><td>0.2</td></tr><tr><td>input_info/old_neglog_action_probability</td><td>16.79078</td></tr><tr><td>input_info/old_value_pred</td><td>0.01295</td></tr><tr><td>_step</td><td>623</td></tr></table>"
      ],
      "text/plain": [
       "<IPython.core.display.HTML object>"
      ]
     },
     "metadata": {},
     "output_type": "display_data"
    },
    {
     "data": {
      "text/html": [
       "<h3>Run history:</h3><br/><style>\n",
       "    table.wandb td:nth-child(1) { padding: 0 10px; text-align: right }\n",
       "    </style><table class=\"wandb\">\n",
       "<tr><td>global_step</td><td>▁▁▁▁▂▂▂▂▂▃▃▃▃▃▃▄▄▄▄▄▅▅▅▅▅▅▆▆▆▆▆▇▇▇▇▇▇███</td></tr><tr><td>_timestamp</td><td>▁▁▁▁▁▁▁▁▁▁▁▁▁▁▁▁▁▁▁▁▁▁▁▁▁▁▁▁▁▁▁▁▁▁▁▁▁▁▁▁</td></tr><tr><td>loss/entropy_loss</td><td>▁▁▁▁▂▂▂▃▄▅▅▅▅▅▅▄▄▄▅▅▅▆▆▇███▇██▇▆▅▅▅▅▅▅▅▅</td></tr><tr><td>loss/policy_gradient_loss</td><td>▆▆█▇▇▇██▇▆▆▇▆▃▇▆██▇█▆▇█▅█▇▄▅▇▆▅▆▇▅▁▄▂▄▅▆</td></tr><tr><td>loss/value_function_loss</td><td>▄▃▁▁▁▂▂▁▁█▂▁▁▁▁▁▂▁▁▁▁▁▁▁▂▁▁▇▇▅▃▂▁▃▃▁▂▂▁▁</td></tr><tr><td>loss/approximate_kullback-leibler</td><td>▁▁▁▁▁▁▁▁▁▃▁▁▂▂▂▁▂▁▁▁▁▂▁▁▁▁▄▂▃▃▃▁▂▄█▃▃▃▁▁</td></tr><tr><td>loss/clip_factor</td><td>▁▂▂▁▁▁▁▁▁▃▁▁▂▃▂▁▁▁▁▁▁▂▁▁▁▁▇▃█▅▆▁▂██▆█▆▁▂</td></tr><tr><td>loss/loss</td><td>▆▆█▇▇▇██▇▆▆▇▆▃▇▆██▇█▅▇█▅█▇▃▅▇▆▅▆▇▅▁▄▂▄▅▆</td></tr><tr><td>input_info/discounted_rewards</td><td>▅▅▅▄▅▄▄▅▅█▇▇▆▇▅▅▆▆▆▆▆▅▅▅▅▅▆▄▂▄▁▂▂▅▄▄▅▆▆▅</td></tr><tr><td>input_info/learning_rate</td><td>▁▁▁▁▁▁▁▁▁▁▁▁▁▁▁▁▁▁▁▁▁▁▁▁▁▁▁▁▁▁▁▁▁▁▁▁▁▁▁▁</td></tr><tr><td>input_info/advantage</td><td>▄▂▅▂▂▅▃▂▃▁▃▅▃▂▄▃▃▁▂█▃▄▄▃▂▂▃▂▄▃▃▂▃▄▃▄▁▃▅▄</td></tr><tr><td>input_info/clip_range</td><td>▁▁▁▁▁▁▁▁▁▁▁▁▁▁▁▁▁▁▁▁▁▁▁▁▁▁▁▁▁▁▁▁▁▁▁▁▁▁▁▁</td></tr><tr><td>input_info/clip_range_vf</td><td>▁▁▁▁▁▁▁▁▁▁▁▁▁▁▁▁▁▁▁▁▁▁▁▁▁▁▁▁▁▁▁▁▁▁▁▁▁▁▁▁</td></tr><tr><td>input_info/old_neglog_action_probability</td><td>▃▁▆▄▃▃▂▄▃▅▁▁▃▃▇▆▂▄▄▄▅▄▃▃▁▅▃▃▃█▃▄█▄▄▄▄▃▃▃</td></tr><tr><td>input_info/old_value_pred</td><td>▅▄▅▄▄▄▄▄▅▄██▇▇▇▅▄▆▆▇▆▆▅▅▅▆▆▆▆▂▁▁▁▃▄▄▅▅▆▅</td></tr><tr><td>_step</td><td>▁▁▁▁▂▂▂▂▂▃▃▃▃▃▃▄▄▄▄▄▅▅▅▅▅▅▆▆▆▆▆▇▇▇▇▇▇███</td></tr></table><br/>"
      ],
      "text/plain": [
       "<IPython.core.display.HTML object>"
      ]
     },
     "metadata": {},
     "output_type": "display_data"
    },
    {
     "data": {
      "text/html": [
       "Synced 5 W&B file(s), 0 media file(s), 0 artifact file(s) and 3 other file(s)"
      ],
      "text/plain": [
       "<IPython.core.display.HTML object>"
      ]
     },
     "metadata": {},
     "output_type": "display_data"
    },
    {
     "data": {
      "text/html": [
       "\n",
       "                    <br/>Synced <strong style=\"color:#cdcd00\">treasured-star-30</strong>: <a href=\"https://wandb.ai/wpi-mmr/solo-rl-experiments/runs/2gx240jv\" target=\"_blank\">https://wandb.ai/wpi-mmr/solo-rl-experiments/runs/2gx240jv</a><br/>\n",
       "                "
      ],
      "text/plain": [
       "<IPython.core.display.HTML object>"
      ]
     },
     "metadata": {},
     "output_type": "display_data"
    }
   ],
   "source": [
    "model, config, run = auto_trainer.train(env, config, TAGS, log_freq=500)"
   ]
  }
 ],
 "metadata": {
  "jupytext": {
   "text_representation": {
    "extension": ".py",
    "format_name": "percent",
    "format_version": "1.3",
    "jupytext_version": "1.9.1"
   }
  },
  "kernelspec": {
   "display_name": "Python 3",
   "language": "python",
   "name": "python3"
  },
  "language_info": {
   "codemirror_mode": {
    "name": "ipython",
    "version": 3
   },
   "file_extension": ".py",
   "mimetype": "text/x-python",
   "name": "python",
   "nbconvert_exporter": "python",
   "pygments_lexer": "ipython3",
   "version": "3.7.5"
  }
 },
 "nbformat": 4,
 "nbformat_minor": 4
}
