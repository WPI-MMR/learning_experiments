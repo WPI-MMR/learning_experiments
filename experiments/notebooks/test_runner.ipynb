{
 "cells": [
  {
   "cell_type": "code",
   "execution_count": 1,
   "metadata": {},
   "outputs": [],
   "source": [
    "import jupytext"
   ]
  },
  {
   "cell_type": "code",
   "execution_count": 6,
   "metadata": {},
   "outputs": [
    {
     "data": {
      "text/plain": [
       "['/home/agupta/.config/jupytext',\n",
       " '/home/agupta/.config',\n",
       " '/home/agupta/jupytext',\n",
       " '/home/agupta',\n",
       " '/etc/xdg/xdg-ubuntu/jupytext',\n",
       " '/etc/xdg/xdg-ubuntu',\n",
       " '/etc/xdg/jupytext',\n",
       " '/etc/xdg']"
      ]
     },
     "execution_count": 6,
     "metadata": {},
     "output_type": "execute_result"
    }
   ],
   "source": [
    "from jupytext.config import global_jupytext_configuration_directories\n",
    "list(global_jupytext_configuration_directories())"
   ]
  },
  {
   "cell_type": "code",
   "execution_count": 10,
   "metadata": {},
   "outputs": [
    {
     "name": "stdout",
     "output_type": "stream",
     "text": [
      "None\n"
     ]
    }
   ],
   "source": [
    "from jupytext.config import find_jupytext_configuration_file\n",
    "print(find_jupytext_configuration_file('.'))"
   ]
  },
  {
   "cell_type": "code",
   "execution_count": null,
   "metadata": {},
   "outputs": [],
   "source": []
  }
 ],
 "metadata": {
  "jupytext": {
   "text_representation": {
    "extension": ".py",
    "format_name": "percent",
    "format_version": "1.3",
    "jupytext_version": "1.6.0"
   }
  },
  "kernelspec": {
   "display_name": "Python 3.7.5 64-bit ('venv-solo-rl': venv)",
   "language": "python",
   "name": "python37564bitvenvsolorlvenvcc9eff967a5849f68175c6659045ec08"
  },
  "language_info": {
   "codemirror_mode": {
    "name": "ipython",
    "version": 3
   },
   "file_extension": ".py",
   "mimetype": "text/x-python",
   "name": "python",
   "nbconvert_exporter": "python",
   "pygments_lexer": "ipython3",
   "version": "3.7.5"
  }
 },
 "nbformat": 4,
 "nbformat_minor": 4
}
